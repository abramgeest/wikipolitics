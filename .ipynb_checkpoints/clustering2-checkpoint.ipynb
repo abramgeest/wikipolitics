{
 "cells": [
  {
   "cell_type": "markdown",
   "metadata": {},
   "source": [
    "I need to plot the clustering to do verifications\n",
    "Wrap silhouette around kmeans to get proper numk\n",
    "Also I should put in check boxes that cluster on popularity, change, and consistency\n",
    "  popularity:  avg, max, and difference from threshold\n",
    "  change:  diff of 1st and last, avg(diff()), diff of max and min\n",
    "  consistency: rms, rms(diff), max(diff), min(diff)"
   ]
  },
  {
   "cell_type": "code",
   "execution_count": 157,
   "metadata": {
    "collapsed": true
   },
   "outputs": [],
   "source": [
    "import requests\n",
    "import pandas as pd\n",
    "from pandas import read_sql\n",
    "import datetime\n",
    "import matplotlib.pyplot as plt\n",
    "import numpy as np\n",
    "import pymysql as mdb\n",
    "from sklearn.cluster import KMeans\n",
    "from sklearn.metrics import silhouette_samples, silhouette_score"
   ]
  },
  {
   "cell_type": "code",
   "execution_count": 158,
   "metadata": {
    "collapsed": false
   },
   "outputs": [
    {
     "data": {
      "text/plain": [
       "2"
      ]
     },
     "execution_count": 158,
     "metadata": {},
     "output_type": "execute_result"
    }
   ],
   "source": [
    "np.argmax([5,2,7,4,1])"
   ]
  },
  {
   "cell_type": "code",
   "execution_count": null,
   "metadata": {
    "collapsed": true
   },
   "outputs": [],
   "source": []
  },
  {
   "cell_type": "code",
   "execution_count": 159,
   "metadata": {
    "collapsed": false
   },
   "outputs": [],
   "source": [
    "def datetime2str(t):\n",
    "    return \"%4d%02d%02d%02d\"%(t.year,t.month,t.day,t.hour)\n",
    "\n",
    "def datetime2str(t):\n",
    "    return \"%4d%02d%02d\"%(t.year,t.month,t.day,)\n",
    "    \n",
    "def gen_feat(into):\n",
    "    avg=np.average(into)\n",
    "    if avg==0: avg=1\n",
    "    chfl=-(into[0]-into[len(into)-1])/avg\n",
    "    avgdiff=np.average(np.diff(into))/avg\n",
    "    diffmm=np.sign(np.argmax(into)-np.argmin(into))*(max(into)-min(into))/avg\n",
    "    maxv= np.max(into)/avg\n",
    "    minv= np.min(into)\n",
    "    rmsv= np.std(into)\n",
    "    difxv=np.max(np.diff(into))\n",
    "    difnv=np.min(np.diff(into))\n",
    "    pop=[avg,maxv]\n",
    "    change=[chfl,avgdiff,diffmm]\n",
    "    change=[chfl,diffmm]\n",
    "    consis=[rmsv/avg,np.std(np.diff(into))]#,np.max(np.diff(into))]\n",
    "    return([avg,diffmm])#,minv,rmsv,difxv,difnv])"
   ]
  },
  {
   "cell_type": "code",
   "execution_count": 198,
   "metadata": {
    "collapsed": false
   },
   "outputs": [],
   "source": [
    "feat=True\n",
    "dateinput=datetime.datetime(2015,9,15,16)\n",
    "searchtopic=45\n",
    "numk=6\n",
    "def get_selected(searchtopic, dateinput,numk,feat):\n",
    "    numtopics=84\n",
    "    \n",
    "    afile=\"/Users/abramvandergeest/mysql_insightwiki_auth.txt\"\n",
    "    a=open(afile)\n",
    "    passwd=a.readline().rstrip()\n",
    "    a.close()\n",
    "    host='localhost'; user='abram.ghost';db='wikidata'\n",
    "    con = mdb.connect(host, user, passwd, db,port=3307)\n",
    "    \n",
    "    with con:\n",
    "        curt= con.cursor()\n",
    "        #sql=\"SELECT COUNT(*) FROM `topics` \"\n",
    "        \n",
    "        sql=\"SELECT `Id`,`topic_label`,`topic_string` FROM `topics`;\"\n",
    "        curt.execute(sql)\n",
    "        topics=[[0,'nothing','Filler to match index']]\n",
    "        for topic in curt:\n",
    "            topics.append(topic)\n",
    "    \n",
    "    data={}\n",
    "        \n",
    "    df=range(numtopics+1)\n",
    "    with con:\n",
    "        curt= con.cursor()\n",
    "        sql=\"SELECT `Id`,`topic_label`,`topic_string` FROM `topics`;\"\n",
    "        curt.execute(sql)\n",
    "        for row in curt:\n",
    "            cur = con.cursor()\n",
    "            sql='''SELECT AVG(`page_views`.`count`) AS `vc`,`page_views`.`dateonly` AS `vd` \n",
    "                 FROM `topics` INNER JOIN `page_views` on `topics`.`ID` = `page_views`.`topic_id` \n",
    "                 WHERE `topics`.`id`=%s GROUP BY `page_views`.`dateonly` '''\n",
    "            sql='''SELECT `page_views`.`dateonly` AS `vd`, AVG(`page_views`.`count`) AS `vc`, \n",
    "                `topics`.`topic_label`,`topics`.`topic_string` \n",
    "                FROM `topics` INNER JOIN `page_views` ON `topics`.`ID` = `page_views`.`topic_id` \n",
    "                WHERE `topic_id`=%s GROUP BY `page_views`.`dateonly`   '''\n",
    "            data[row[1]]=read_sql(sql, con,params=[row[0]])\n",
    "            df[row[0]]=data[row[1]]\n",
    "    \n",
    "    topicdata=df\n",
    "    \n",
    "    #setting dates to take slice of data with\n",
    "    datefin=dateinput+datetime.timedelta(days=7)\n",
    "    di=datetime2str(dateinput)\n",
    "    dfin=datetime2str(datefin)\n",
    "    topicdata=df\n",
    "    \n",
    "    #initializing array to hold the rows to cluster\n",
    "    #the 0th position is fake so that my index matches the sql index\n",
    "    clusinp=[]\n",
    "    if feat==True:\n",
    "        clusinp.append(gen_feat([0,0,0,0,0]))\n",
    "    else:\n",
    "        clusinp.append([0,0,0,0])\n",
    "  \n",
    "    #populating my array to go into my Kmean\n",
    "    for index,topic in enumerate(topics):\n",
    "        #topic=list(topics[index])\n",
    "        if topic[0]!=0:\n",
    "            d=topicdata[topic[0]]\n",
    "            #print d[ (d['vd']>di) & (d['vd']<dfin )]['vd'].values\n",
    "            \n",
    "            if feat==True: #use the slope/variation features\n",
    "                p=gen_feat(d[ (d['vd']>di) & (d['vd']<dfin )]['vc'].values)\n",
    "            else:  # just use the direct view counts\n",
    "                p=d[ (d['vd']>di) & (d['vd']<dfin )]['vc'].values\n",
    "            #print len(p),type(p),p\n",
    "            clusinp.append(p)\n",
    "    \n",
    "    #cleaning up my array making it numpy to go into my kmean\n",
    "    clusinp=np.array(clusinp)\n",
    "    clusinp[0]=clusinp[5] #making sure my through away first row matches in size\n",
    "        \n",
    "    #print clusinp\n",
    "    #for i,l in enumerate(clusinp):\n",
    "    #    print i,len(l),type(l), l\n",
    "    #print type(clusinp), len(clusinp[0]),len(clusinp[45])\n",
    "    \n",
    "    #use Kmeans to find clustering for numk clusters\n",
    "    kmeans=KMeans(n_clusters=numk,n_init=30,max_iter=500,init='random')\n",
    "    kmeans.fit(clusinp)\n",
    "    labels=kmeans.labels_\n",
    "        \n",
    "    #gathering the topics by cluster label\n",
    "    topinclus=[[] for i in xrange(numk)]\n",
    "    for index,cluster in enumerate(labels):\n",
    "        topinclus[cluster].append(topics[index][0])\n",
    "    \n",
    "    #gathering the topics of the same cluster as the selected topic together\n",
    "    for index,k in enumerate(topinclus):\n",
    "        for t in k:\n",
    "            if t==searchtopic:\n",
    "                gsearch=index\n",
    "\n",
    "    #Making a list of the topics in this group     \n",
    "    simtopic=[]\n",
    "    for i in topinclus[gsearch]:\n",
    "        simtopic.append(topics[i])\n",
    "    \n",
    "    #getting the average view for the chosen topic for the day\n",
    "    dinp=dateinput\n",
    "    di=datetime2str2(datetime.datetime(dinp.year,dinp.month,dinp.day,0))\n",
    "    dfin=datetime2str2(datetime.datetime(dinp.year,dinp.month,dinp.day,23))\n",
    "    d=df[searchtopic]\n",
    "    pc=int(np.round(np.average(d[ (d['vd']>=di) & (d['vd']<=dfin )]['vc'].values)))\n",
    "     \n",
    "    return [simtopic ,pc]"
   ]
  },
  {
   "cell_type": "code",
   "execution_count": null,
   "metadata": {
    "collapsed": false
   },
   "outputs": [],
   "source": []
  },
  {
   "cell_type": "code",
   "execution_count": 199,
   "metadata": {
    "collapsed": false
   },
   "outputs": [
    {
     "name": "stdout",
     "output_type": "stream",
     "text": [
      "1132\n",
      "[[0, 'nothing', 'Filler to match index'], (5, 'berniesanders', 'Bernie Sanders'), (7, 'jebbush', 'Jeb Bush'), (9, 'chrischristie', 'Chris Christie'), (45, 'islamicstate', 'islamic state'), (50, 'northkorea', 'north korea'), (57, 'immigration', 'immigration'), (71, 'plannedparenthood', 'Planned Parenthood'), (79, 'nasa', 'NASA')]\n"
     ]
    }
   ],
   "source": [
    "out=get_selected(searchtopic, dateinput,numk,feat)\n",
    "print out[1]\n",
    "print out[0]"
   ]
  },
  {
   "cell_type": "code",
   "execution_count": 195,
   "metadata": {
    "collapsed": false
   },
   "outputs": [],
   "source": [
    "feat=True\n",
    "dateinput=datetime.datetime(2015,9,15,16)\n",
    "searchtopic=45\n",
    "numk=6\n",
    "#def get_selected(searchtopic, dateinput,numk,feat):\n",
    "numtopics=84\n",
    "    \n",
    "afile=\"/Users/abramvandergeest/mysql_insightwiki_auth.txt\"\n",
    "a=open(afile)\n",
    "passwd=a.readline().rstrip()\n",
    "a.close()\n",
    "host='localhost'; user='abram.ghost';db='wikidata'\n",
    "con = mdb.connect(host, user, passwd, db,port=3307)\n",
    "    \n",
    "with con:\n",
    "        curt= con.cursor()\n",
    "        #sql=\"SELECT COUNT(*) FROM `topics` \"\n",
    "        \n",
    "        sql=\"SELECT `Id`,`topic_label`,`topic_string` FROM `topics`;\"\n",
    "        curt.execute(sql)\n",
    "        topics=[[0,'nothing','Filler to match index']]\n",
    "        for topic in curt:\n",
    "            topics.append(topic)\n",
    "    \n",
    "data={}\n",
    "        \n",
    "df=range(numtopics+1)\n",
    "with con:\n",
    "        curt= con.cursor()\n",
    "        sql=\"SELECT `Id`,`topic_label`,`topic_string` FROM `topics`;\"\n",
    "        curt.execute(sql)\n",
    "        for row in curt:\n",
    "            cur = con.cursor()\n",
    "            #sql='''SELECT AVG(`page_views`.`count`) AS `vc`,`page_views`.`dateonly` AS `vd` \n",
    "            #     FROM `topics` INNER JOIN `page_views` on `topics`.`ID` = `page_views`.`topic_id` \n",
    "            #     WHERE `topics`.`id`=%s GROUP BY `page_views`.`dateonly` '''\n",
    "            sql='''SELECT `page_views`.`dateonly` AS `vd`, AVG(`page_views`.`count`) AS `vc`, \n",
    "                `topics`.`topic_label`,`topics`.`topic_string` \n",
    "                FROM `topics` INNER JOIN `page_views` ON `topics`.`ID` = `page_views`.`topic_id` \n",
    "                WHERE `topic_id`=%s GROUP BY `page_views`.`dateonly`   '''\n",
    "            data[row[1]]=read_sql(sql, con,params=[row[0]])\n",
    "            df[row[0]]=data[row[1]]\n",
    "    \n",
    "topicdata=df\n",
    "    \n",
    "#setting dates to take slice of data with\n",
    "datefin=dateinput+datetime.timedelta(days=7)\n",
    "di=datetime2str(dateinput)\n",
    "dfin=datetime2str(datefin)\n",
    "topicdata=df\n",
    "    \n",
    "#initializing array to hold the rows to cluster\n",
    "#the 0th position is fake so that my index matches the sql index\n",
    "clusinp=[]\n",
    "if feat==True:\n",
    "    clusinp.append(gen_feat([0,0,0,0,0]))\n",
    "else:\n",
    "    clusinp.append([0,0,0,0])\n",
    "    \n",
    "#populating my array to go into my Kmean\n",
    "for index,topic in enumerate(topics):\n",
    "        #topic=list(topics[index])\n",
    "        if topic[0]!=0:\n",
    "            d=topicdata[topic[0]]\n",
    "            #print d[ (d['vd']>di) & (d['vd']<dfin )]['vd'].values\n",
    "            \n",
    "            if feat==True: #use the slope/variation features\n",
    "                p=gen_feat(d[ (d['vd']>di) & (d['vd']<dfin )]['vc'].values)\n",
    "            else:  # just use the direct view counts\n",
    "                p=d[ (d['vd']>di) & (d['vd']<dfin )]['vc'].values\n",
    "            #print len(p),type(p),p\n",
    "            clusinp.append(p)\n",
    "    \n",
    "#cleaning up my array making it numpy to go into my kmean\n",
    "clusinp=np.array(clusinp)\n",
    "clusinp[0]=clusinp[5] #making sure my through away first row matches in size\n",
    "        \n",
    "##using silhouette_score and kmeans to find the bast cluster for k>2\n",
    "sil=[]\n",
    "silmin=3\n",
    "silit=0.85\n",
    "for numk in xrange(silmin,10):\n",
    "    #use Kmeans to find clustering for numk clusters\n",
    "    kmeans=KMeans(n_clusters=numk,n_init=30,max_iter=500,init='random')\n",
    "    kmeans.fit(clusinp)\n",
    "    labels=kmeans.labels_\n",
    "\n",
    "    silhouette_avg = silhouette_score(clusinp, labels)\n",
    "    #print(\"For n_clusters =\", numk,\n",
    "    #      \"The average silhouette_score is :\", silhouette_avg)\n",
    "    if silhouette_avg-silit>-0.01:\n",
    "        #print numk\n",
    "        break\n",
    "    silit=silhouette_avg\n",
    "\n",
    "\n",
    "#gathering the topics by cluster label\n",
    "topinclus=[[] for i in xrange(numk)]\n",
    "for index,cluster in enumerate(labels):\n",
    "        topinclus[cluster].append(topics[index][0])\n",
    "    \n",
    "#gathering the topics of the same cluster as the selected topic together\n",
    "for index,k in enumerate(topinclus):\n",
    "        for t in k:\n",
    "            if t==searchtopic:\n",
    "                gsearch=index\n",
    "\n",
    "#Making a list of the topics in this group     \n",
    "simtopic=[]\n",
    "for i in topinclus[gsearch] :\n",
    "    if topics[i][0]!=0:\n",
    "        simtopic.append(topics[i])\n",
    "        #print topics[i][0]\n",
    "    \n",
    "#getting the average view for the chosen topic for the day\n",
    "dinp=dateinput\n",
    "di=datetime2str2(datetime.datetime(dinp.year,dinp.month,dinp.day,0))\n",
    "dfin=datetime2str2(datetime.datetime(dinp.year,dinp.month,dinp.day,23))\n",
    "d=df[searchtopic]\n",
    "pc=int(np.round(np.average(d[ (d['vd']>=di) & (d['vd']<=dfin )]['vc'].values)))\n",
    "     \n",
    "#    return [simtopic ,pc]\n",
    "\n"
   ]
  },
  {
   "cell_type": "code",
   "execution_count": 197,
   "metadata": {
    "collapsed": false
   },
   "outputs": [
    {
     "name": "stdout",
     "output_type": "stream",
     "text": [
      "45\n",
      "2015-09-15 16:00:00\n",
      "[(5, 'berniesanders', 'Bernie Sanders'), (8, 'bencarson', 'Ben Carson'), (9, 'chrischristie', 'Chris Christie'), (28, 'immigra', 'Immigra'), (45, 'islamicstate', 'islamic state'), (57, 'immigration', 'immigration'), (71, 'plannedparenthood', 'Planned Parenthood')] 1132\n"
     ]
    },
    {
     "data": {
      "image/png": "[encoded data removed]",
      "text/plain": [
       "<matplotlib.figure.Figure at 0x10a979990>"
      ]
     },
     "metadata": {},
     "output_type": "display_data"
    }
   ],
   "source": [
    "print searchtopic\n",
    "print dateinput\n",
    "print simtopic ,pc\n",
    "\n",
    "npclusin=np.array(clusinp)\n",
    "%matplotlib inline\n",
    "plt.plot(npclusin[:,0],npclusin[:,1],'o')\n",
    "plt.show()"
   ]
  },
  {
   "cell_type": "code",
   "execution_count": null,
   "metadata": {
    "collapsed": true
   },
   "outputs": [],
   "source": []
  }
 ],
 "metadata": {
  "kernelspec": {
   "display_name": "Python 2",
   "language": "python",
   "name": "python2"
  },
  "language_info": {
   "codemirror_mode": {
    "name": "ipython",
    "version": 2
   },
   "file_extension": ".py",
   "mimetype": "text/x-python",
   "name": "python",
   "nbconvert_exporter": "python",
   "pygments_lexer": "ipython2",
   "version": "2.7.10"
  }
 },
 "nbformat": 4,
 "nbformat_minor": 0
}
