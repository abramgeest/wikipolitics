{
 "cells": [
  {
   "cell_type": "code",
   "execution_count": 1,
   "metadata": {
    "collapsed": true
   },
   "outputs": [],
   "source": [
    "import requests\n",
    "import pandas as pd\n",
    "from pandas import read_sql\n",
    "import datetime\n",
    "import matplotlib.pyplot as plt\n",
    "import numpy as np\n",
    "import pymysql as mdb\n",
    "from sklearn.cluster import KMeans\n",
    "from sklearn.metrics import silhouette_samples, silhouette_score\n",
    "from sklearn.svm import OneClassSVM\n",
    "from sklearn.covariance import EllipticEnvelope\n",
    "import seaborn as sns"
   ]
  },
  {
   "cell_type": "code",
   "execution_count": 2,
   "metadata": {
    "collapsed": true
   },
   "outputs": [],
   "source": [
    "def datetime2str2(t):\n",
    "    return \"%4d%02d%02d\"%(t.year,t.month,t.day,)\n",
    "    \n",
    "def gen_feat(into):\n",
    "    unit=6667\n",
    "    avg=np.average(into)\n",
    "    if avg==0: avg=1\n",
    "    #chfl=-(into[0]-into[len(into)-1])/avg\n",
    "    avgdiff=np.average(np.diff(into))/avg\n",
    "    #diffmm=np.sign(np.argmax(into)-np.argmin(into))*(max(into)-min(into))/avg\n",
    "    #maxv= np.max(into)/avg\n",
    "    #minv= np.min(into)\n",
    "    #rmsv= np.std(into)\n",
    "    #difxv=np.max(np.diff(into))\n",
    "    #difnv=np.min(np.diff(into))\n",
    "    #pop=[avg,maxv]\n",
    "    #change=[chfl,avgdiff,diffmm]\n",
    "    #change=[chfl,diffmm]\n",
    "    #consis=[rmsv/avg,np.std(np.diff(into))]\n",
    "    return([avg,avgdiff])"
   ]
  },
  {
   "cell_type": "code",
   "execution_count": 6,
   "metadata": {
    "collapsed": false
   },
   "outputs": [
    {
     "ename": "SyntaxError",
     "evalue": "invalid syntax (<ipython-input-6-288f58f0c943>, line 90)",
     "output_type": "error",
     "traceback": [
      "\u001b[0;36m  File \u001b[0;32m\"<ipython-input-6-288f58f0c943>\"\u001b[0;36m, line \u001b[0;32m90\u001b[0m\n\u001b[0;31m    legend1 = plt.contour(xx1, yy1, Z1, levels=[0], linewidths=2), colors='k')\u001b[0m\n\u001b[0m                                                                             ^\u001b[0m\n\u001b[0;31mSyntaxError\u001b[0m\u001b[0;31m:\u001b[0m invalid syntax\n"
     ]
    }
   ],
   "source": [
    "\n",
    "def find_outliers(datestart,dateend,plot=False,cut=-0.05):\n",
    "    numtopics=84\n",
    "\n",
    "    di=datetime2str2(datestart)\n",
    "    dfin=datetime2str2(dateend)\n",
    "\n",
    "    #print di,dfin\n",
    "    if dfin<di:\n",
    "        temp=dfin\n",
    "        dfin=di\n",
    "        di=temp\n",
    "    #print di,dfin\n",
    "    \n",
    "    afile=\"/Users/abramvandergeest/mysql_insightwiki_auth.txt\"\n",
    "    a=open(afile)\n",
    "    passwd=a.readline().rstrip()\n",
    "    a.close()\n",
    "    host='localhost'; user='abram.ghost';db='wikidata'\n",
    "    con = mdb.connect(host, user, passwd, db,port=3307)\n",
    "     \n",
    "    with con:\n",
    "        curt= con.cursor()\n",
    "        #sql=\"SELECT COUNT(*) FROM `topics` \"\n",
    "        \n",
    "        sql=\"SELECT `Id`,`topic_label`,`topic_string` FROM `topics`;\"\n",
    "        curt.execute(sql)\n",
    "        topics=[[0,'nothing','Filler to match index']]\n",
    "        for topic in curt:\n",
    "            topics.append(topic)\n",
    "\n",
    "    data={}\n",
    "        \n",
    "    df=range(numtopics+1)\n",
    "    with con:\n",
    "        curt= con.cursor()\n",
    "        sql=\"SELECT `Id`,`topic_label`,`topic_string` FROM `topics`;\"\n",
    "        curt.execute(sql)\n",
    "        for row in curt:\n",
    "            cur = con.cursor()\n",
    "            sql='''SELECT `page_views`.`dateonly` AS `vd`, AVG(`page_views`.`count`) AS `vc`, \n",
    "                `topics`.`topic_label`,`topics`.`topic_string` \n",
    "                FROM `topics` INNER JOIN `page_views` ON `topics`.`ID` = `page_views`.`topic_id` \n",
    "                WHERE `topic_id`=%s GROUP BY `page_views`.`dateonly`   '''\n",
    "            data[row[1]]=read_sql(sql, con,params=[row[0]])\n",
    "            df[row[0]]=data[row[1]]\n",
    "    \n",
    "    topicdata=df\n",
    "    \n",
    "    d=topicdata[topics[3][0]]\n",
    "    p=d[ (d['vd']>di) & (d['vd']<dfin )]['vc'].values    \n",
    "    topicdata=df\n",
    "    \n",
    "    #initializing array to hold the rows to cluster\n",
    "    #the 0th position is fake so that my index matches the sql index\n",
    "    clusinp=[]\n",
    "    clusinp.append(gen_feat([0,0,0,0,0]))\n",
    "    \n",
    "    chinaoff=6000\n",
    "    #populating my array to go into my Kmean\n",
    "    for index,topic in enumerate(topics):\n",
    "        #topic=list(topics[index])\n",
    "        if topic[0]!=0:\n",
    "            d=topicdata[topic[0]]\n",
    "            ppre=d[ (d['vd']>di) & (d['vd']<dfin )]['vc'].values\n",
    "            p=gen_feat(ppre)\n",
    "            if topic[0]==52:\n",
    "                p=gen_feat([x-chinaoff if x-chinaoff>=0 else 0 for x in ppre  ])\n",
    "            clusinp.append(p)\n",
    "    \n",
    "    #cleaning up my array making it numpy to go into my kmean\n",
    "    clusinp=np.array(clusinp)\n",
    "    clusinp[0]=clusinp[5] #making sure my through away first row matches in size\n",
    "    #contam=0.325\n",
    "    contamfix=0.1\n",
    "    \n",
    "    colors = ['m', 'g', 'b']\n",
    "    X1=clusinp\n",
    "    xx1, yy1 = np.meshgrid(np.linspace(0, 6000, 500), np.linspace(-1.5, 1.5, 500))\n",
    "    ee=EllipticEnvelope(support_fraction=1., contamination=contamfix)\n",
    "    #ee=OneClassSVM(nu=contam2, gamma=0.05,kernel='rbf')\n",
    "    ee.fit(clusinp)\n",
    "    outliers=ee.decision_function(X1, raw_values=False)\n",
    "    \n",
    "    if plot==True:\n",
    "        print \"here\"\n",
    "        %matplotlib inline\n",
    "        Z1 = ee.decision_function(np.c_[xx1.ravel(), yy1.ravel()])    \n",
    "        Z1 = Z1.reshape(xx1.shape)\n",
    "        legend1 = plt.contour(xx1, yy1, Z1, levels=[0], linewidths=2), colors='Gray')\n",
    "        plt.scatter(X1[:, 0], X1[:, 1], color='b')\n",
    "        #plt.xlim((xx1.min(), xx1.max()))\n",
    "        plt.xlim((xx1.min(), xx1.max()))\n",
    "        plt.ylim((yy1.min(), yy1.max()))\n",
    "        plt.ylabel(\"Average Change (%)\", fontsize=14)#,color='Gray')\n",
    "        plt.xlabel(\"Average of Hourly Pageviews (%)\", fontsize=14)#,color='Gray')\n",
    "        plt.tick_params(axis='both', which='major', labelsize=14)#,colors='Gray')\n",
    "        sns.despine()\n",
    "        plt.show()\n",
    "\n",
    "    out=[]\n",
    "    for index,outlier in enumerate(outliers):\n",
    "        row=[index,outlier,topics[index][1],clusinp[index][0],clusinp[index][1]]\n",
    "        if outlier<cut and index!=0:\n",
    "            out.append(row)\n",
    "            #print index,outlier,topics[index][2],clusinp[index][0],clusinp[index][1]\n",
    "    #out=np.array(out)\n",
    "    return out"
   ]
  },
  {
   "cell_type": "code",
   "execution_count": 7,
   "metadata": {
    "collapsed": false
   },
   "outputs": [
    {
     "name": "stdout",
     "output_type": "stream",
     "text": [
      "here\n"
     ]
    },
    {
     "data": {
      "image/png": "[encoded data removed]",
      "text/plain": [
       "<matplotlib.figure.Figure at 0x10b0ebad0>"
      ]
     },
     "metadata": {},
     "output_type": "display_data"
    },
    {
     "name": "stdout",
     "output_type": "stream",
     "text": [
      "<type 'list'>\n",
      "[2, -0.23432624670517122, 'Lincoln Chafee', 180.90000000000001, 0.45365763773723972]\n",
      "[3, -3.5014698911757298, 'Hillary Clinton', 4964.3999999999996, -0.51412725270593296]\n",
      "[7, 0.045062513881779065, 'Jeb Bush', 633.29999999999995, -0.39696826148744668]\n",
      "[11, -0.86777260079203833, 'Carly Fiorina', 426.25000000000006, -0.65970674486803504]\n",
      "[18, -0.029192924717633684, 'Rand Paul', 995.29999999999995, -0.35459995311296427]\n",
      "[20, -2.1507976055735849, 'Marco Rubio', 3215.6000000000004, -0.48718746112700584]\n",
      "[49, -1.4303729516717016, 'Syria', 3127.8999999999996, 0.018862495604079415]\n",
      "[51, -0.22039973645965327, 'South Korea', 1938.1500000000001, 0.013827619121327014]\n",
      "[52, -1.390128458063983, 'China', 3107.25, 0.074535360849625795]\n",
      "[60, -0.9115454919251964, 'Federal Deficit', 0.75, 0.62222222222222212]\n"
     ]
    }
   ],
   "source": [
    "datestart=datetime.datetime(2015,4,17,16)\n",
    "dateend=datetime.datetime(2015,4,12,16)\n",
    "ol=find_outliers(datestart,dateend,plot=True,cut=0.05)\n",
    "\n",
    "print type(ol)\n",
    "def split_outliers(ol):\n",
    "    #inp=np.array(ol)\n",
    "    #maxch=np.max(inp[:,4])\n",
    "    #print maxch\n",
    "    for o in ol:\n",
    "        print o\n",
    "    return     \n",
    "\n",
    "split_outliers(ol)"
   ]
  },
  {
   "cell_type": "code",
   "execution_count": 5,
   "metadata": {
    "collapsed": false
   },
   "outputs": [
    {
     "name": "stdout",
     "output_type": "stream",
     "text": [
      "7 days, 0:00:00\n",
      "2015-04-24 16:00:00\n"
     ]
    }
   ],
   "source": [
    "\n",
    "datestart=datetime.datetime(2015,4,17,16)\n",
    "dateend=datetime.datetime(2015,4,12,16)\n",
    "ol=find_outliers(datestart,dateend,plot=False,cut=0.05)\n",
    "#for i in ol:\n",
    "#    print i\n",
    " \n",
    "\n",
    "print datetime.timedelta(days=+7)\n",
    "print datestart+datetime.timedelta(days=+7)"
   ]
  },
  {
   "cell_type": "code",
   "execution_count": null,
   "metadata": {
    "collapsed": true
   },
   "outputs": [],
   "source": []
  }
 ],
 "metadata": {
  "kernelspec": {
   "display_name": "Python 2",
   "language": "python",
   "name": "python2"
  },
  "language_info": {
   "codemirror_mode": {
    "name": "ipython",
    "version": 2
   },
   "file_extension": ".py",
   "mimetype": "text/x-python",
   "name": "python",
   "nbconvert_exporter": "python",
   "pygments_lexer": "ipython2",
   "version": "2.7.10"
  }
 },
 "nbformat": 4,
 "nbformat_minor": 0
}
