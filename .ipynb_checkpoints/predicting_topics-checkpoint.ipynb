{
 "cells": [
  {
   "cell_type": "code",
   "execution_count": 6,
   "metadata": {
    "collapsed": true
   },
   "outputs": [],
   "source": [
    "import urllib\n",
    "import pandas as pd\n",
    "import numpy as np\n",
    "import datetime\n",
    "import string\n",
    "import pymysql as mdb"
   ]
  },
  {
   "cell_type": "code",
   "execution_count": 7,
   "metadata": {
    "collapsed": false
   },
   "outputs": [],
   "source": [
    "afile=\"/Users/abramvandergeest/mysql_insightwiki_auth.txt\"\n",
    "a=open(afile)\n",
    "auth=a.readlines()\n",
    "\n",
    "con = mdb.connect(auth[0].rstrip(), auth[1].rstrip(), auth[2].rstrip(), auth[3].rstrip())\n",
    "sql=\"SELECT `` FROM `page_views` LEFT OUTER JOIN `topics` ON `topics.id`=`page_view.topic_id`\n",
    "#con = mdb.connect('localhost', 'abram.ghost', '', 'wikidata')\n",
    "####I NEED TO SET THIS TO A NON-GITHUB AUTHENTICATION LOCATION AND CHANGE PASSWORD\n",
    "####DONE \n",
    "\n",
    "#I should also create the  database if it doesn't exist"
   ]
  },
  {
   "cell_type": "code",
   "execution_count": null,
   "metadata": {
    "collapsed": true
   },
   "outputs": [],
   "source": []
  }
 ],
 "metadata": {
  "kernelspec": {
   "display_name": "Python 2",
   "language": "python",
   "name": "python2"
  },
  "language_info": {
   "codemirror_mode": {
    "name": "ipython",
    "version": 2
   },
   "file_extension": ".py",
   "mimetype": "text/x-python",
   "name": "python",
   "nbconvert_exporter": "python",
   "pygments_lexer": "ipython2",
   "version": "2.7.10"
  }
 },
 "nbformat": 4,
 "nbformat_minor": 0
}
