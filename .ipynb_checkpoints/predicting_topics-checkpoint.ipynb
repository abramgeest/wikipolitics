{
 "cells": [
  {
   "cell_type": "code",
   "execution_count": 1,
   "metadata": {
    "collapsed": true
   },
   "outputs": [],
   "source": [
    "import urllib\n",
    "import pandas as pd\n",
    "import numpy as np\n",
    "import datetime\n",
    "import string\n",
    "import pymysql as mdb"
   ]
  },
  {
   "cell_type": "code",
   "execution_count": 2,
   "metadata": {
    "collapsed": true
   },
   "outputs": [],
   "source": [
    "import sqlalchemy as sa\n",
    "from pandas import read_sql\n",
    "import matplotlib.pyplot as plt"
   ]
  },
  {
   "cell_type": "code",
   "execution_count": 3,
   "metadata": {
    "collapsed": false
   },
   "outputs": [
    {
     "name": "stdout",
     "output_type": "stream",
     "text": [
      "2015-03-04 16:00:00\n"
     ]
    }
   ],
   "source": [
    "str='2015030416'\n",
    "def date_parse(str):\n",
    "    year =int(str[:4])\n",
    "    month=int(str[4:6])\n",
    "    day=int(str[6:8])\n",
    "    hour=int(str[8:])\n",
    "    return datetime.datetime(year,month,day,hour)\n",
    "    \n",
    "print date_parse(str)"
   ]
  },
  {
   "cell_type": "code",
   "execution_count": 4,
   "metadata": {
    "collapsed": true
   },
   "outputs": [],
   "source": [
    "afile=\"/Users/abramvandergeest/mysql_insightwiki_auth.txt\"\n",
    "a=open(afile)\n",
    "passwd=a.readline().rstrip()\n",
    "a.close()\n",
    "host='localhost'; user='abram.ghost';db='wikidata'\n",
    "con = mdb.connect(host, user, passwd, db)"
   ]
  },
  {
   "cell_type": "code",
   "execution_count": 6,
   "metadata": {
    "collapsed": false
   },
   "outputs": [],
   "source": [
    "with con:\n",
    "    curt= con.cursor()\n",
    "    #sql=\"SELECT COUNT(*) FROM `topics` \"\n",
    "    \n",
    "    sql=\"SELECT `Id`,`topic_label`,`topic_string` FROM `topics`;\"\n",
    "    curt.execute(sql)\n",
    "    topics=[]\n",
    "    for topic in curt:\n",
    "        topics.append(topic)"
   ]
  },
  {
   "cell_type": "code",
   "execution_count": 7,
   "metadata": {
    "collapsed": false
   },
   "outputs": [],
   "source": [
    "\n",
    "data={}\n",
    "df=[]\n",
    "with con:\n",
    "    curt= con.cursor()\n",
    "    #sql=\"SELECT COUNT(*) FROM `topics` \"\n",
    "    #curt.execute(sql)\n",
    "    sql=\"SELECT `Id`,`topic_label`,`topic_string` FROM `topics`;\"\n",
    "    curt.execute(sql)\n",
    "    for row in curt:\n",
    "        #cur = con.cursor()\n",
    "        sql='''SELECT `page_views`.`count` AS `vc`,`page_views`.`date` AS `vd` \n",
    "             FROM `topics` INNER JOIN `page_views` on `topics`.`ID` = `page_views`.`topic_id` \n",
    "             WHERE `topics`.`id`=%s '''\n",
    "\n",
    "        #print sql\n",
    "        \n",
    "        data[row[1]]=read_sql(sql, con,params=[row[0]])\n",
    "        #df.append([row[1],read_sql(sql, con,params=[row[0]])])\n",
    "        #data[row[1]]=df[len(df)-1][1]\n",
    "\n"
   ]
  },
  {
   "cell_type": "code",
   "execution_count": 51,
   "metadata": {
    "collapsed": false
   },
   "outputs": [
    {
     "name": "stdout",
     "output_type": "stream",
     "text": [
      "warinafghanistan\n"
     ]
    },
    {
     "data": {
      "image/png": "[encoded data removed]",
      "text/plain": [
       "<matplotlib.figure.Figure at 0x107cba5d0>"
      ]
     },
     "metadata": {},
     "output_type": "display_data"
    }
   ],
   "source": [
    "%matplotlib inline\n",
    "top=topics[47][1]#topic to consider for now\n",
    "print top\n",
    "data[top]['date']=map(lambda x:date_parse(x),data[top]['vd'] )\n",
    "#df[1][['tl','vd','vc']]\n",
    "a=plt.plot_date(data[top][['date']].values,data[top][['vc']].values)\n",
    "plt.show()"
   ]
  },
  {
   "cell_type": "code",
   "execution_count": null,
   "metadata": {
    "collapsed": true
   },
   "outputs": [],
   "source": []
  }
 ],
 "metadata": {
  "kernelspec": {
   "display_name": "Python 2",
   "language": "python",
   "name": "python2"
  },
  "language_info": {
   "codemirror_mode": {
    "name": "ipython",
    "version": 2
   },
   "file_extension": ".py",
   "mimetype": "text/x-python",
   "name": "python",
   "nbconvert_exporter": "python",
   "pygments_lexer": "ipython2",
   "version": "2.7.10"
  }
 },
 "nbformat": 4,
 "nbformat_minor": 0
}
