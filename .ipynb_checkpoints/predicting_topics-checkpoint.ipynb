{
 "cells": [
  {
   "cell_type": "code",
   "execution_count": 1,
   "metadata": {
    "collapsed": true
   },
   "outputs": [],
   "source": [
    "import urllib\n",
    "import pandas as pd\n",
    "import numpy as np\n",
    "import datetime\n",
    "import string\n",
    "import pymysql as mdb"
   ]
  },
  {
   "cell_type": "code",
   "execution_count": 2,
   "metadata": {
    "collapsed": true
   },
   "outputs": [],
   "source": [
    "import sqlalchemy as sa\n",
    "from pandas import read_sql"
   ]
  },
  {
   "cell_type": "code",
   "execution_count": 3,
   "metadata": {
    "collapsed": false
   },
   "outputs": [
    {
     "name": "stdout",
     "output_type": "stream",
     "text": [
      "localhost\n",
      "abram.ghost\n",
      "wikidata\n",
      "\n",
      "SELECT `topics`.`topic_label` AS `tl`,`page_views`.`count` AS `vc`,`page_views`.`date` AS `vd` \n",
      "         FROM `topics` INNER JOIN `page_views` on `topics`.`ID` = `page_views`.`topic_id` \n",
      "         WHERE `topics`.`id`=%s \n"
     ]
    }
   ],
   "source": [
    "afile=\"/Users/abramvandergeest/mysql_insightwiki_auth.txt\"\n",
    "a=open(afile)\n",
    "auth=a.readlines()\n",
    "print auth[0],auth[1],auth[3]\n",
    "con = mdb.connect(auth[0].rstrip(), auth[1].rstrip(), auth[2].rstrip(), auth[3].rstrip())\n",
    "data=[]\n",
    "with con:\n",
    "    cur = con.cursor()\n",
    "    \n",
    "    sql='''SELECT `topics`.`topic_label` AS `tl`,`page_views`.`count` AS `vc`,`page_views`.`date` AS `vd` \n",
    "         FROM `topics` INNER JOIN `page_views` on `topics`.`ID` = `page_views`.`topic_id` \n",
    "         WHERE `topics`.`id`=%s '''\n",
    "\n",
    "    print sql\n",
    "    df=read_sql(sql, con,params=[75])\n",
    "\n"
   ]
  },
  {
   "cell_type": "code",
   "execution_count": 4,
   "metadata": {
    "collapsed": false
   },
   "outputs": [
    {
     "data": {
      "text/plain": [
       "0      marriageunitedstates\n",
       "1      marriageunitedstates\n",
       "2      marriageunitedstates\n",
       "3      marriageunitedstates\n",
       "4      marriageunitedstates\n",
       "5      marriageunitedstates\n",
       "6      marriageunitedstates\n",
       "7      marriageunitedstates\n",
       "8      marriageunitedstates\n",
       "9      marriageunitedstates\n",
       "10     marriageunitedstates\n",
       "11     marriageunitedstates\n",
       "12     marriageunitedstates\n",
       "13     marriageunitedstates\n",
       "14     marriageunitedstates\n",
       "15     marriageunitedstates\n",
       "16     marriageunitedstates\n",
       "17     marriageunitedstates\n",
       "18     marriageunitedstates\n",
       "19     marriageunitedstates\n",
       "20     marriageunitedstates\n",
       "21     marriageunitedstates\n",
       "22     marriageunitedstates\n",
       "23     marriageunitedstates\n",
       "24     marriageunitedstates\n",
       "25     marriageunitedstates\n",
       "26     marriageunitedstates\n",
       "27     marriageunitedstates\n",
       "28     marriageunitedstates\n",
       "29     marriageunitedstates\n",
       "               ...         \n",
       "164    marriageunitedstates\n",
       "165    marriageunitedstates\n",
       "166    marriageunitedstates\n",
       "167    marriageunitedstates\n",
       "168    marriageunitedstates\n",
       "169    marriageunitedstates\n",
       "170    marriageunitedstates\n",
       "171    marriageunitedstates\n",
       "172    marriageunitedstates\n",
       "173    marriageunitedstates\n",
       "174    marriageunitedstates\n",
       "175    marriageunitedstates\n",
       "176    marriageunitedstates\n",
       "177    marriageunitedstates\n",
       "178    marriageunitedstates\n",
       "179    marriageunitedstates\n",
       "180    marriageunitedstates\n",
       "181    marriageunitedstates\n",
       "182    marriageunitedstates\n",
       "183    marriageunitedstates\n",
       "184    marriageunitedstates\n",
       "185    marriageunitedstates\n",
       "186    marriageunitedstates\n",
       "187    marriageunitedstates\n",
       "188    marriageunitedstates\n",
       "189    marriageunitedstates\n",
       "190    marriageunitedstates\n",
       "191    marriageunitedstates\n",
       "192    marriageunitedstates\n",
       "193    marriageunitedstates\n",
       "Name: tl, dtype: object"
      ]
     },
     "execution_count": 4,
     "metadata": {},
     "output_type": "execute_result"
    }
   ],
   "source": [
    "df['tl'].head(10)"
   ]
  },
  {
   "cell_type": "code",
   "execution_count": null,
   "metadata": {
    "collapsed": true
   },
   "outputs": [],
   "source": []
  }
 ],
 "metadata": {
  "kernelspec": {
   "display_name": "Python 2",
   "language": "python",
   "name": "python2"
  },
  "language_info": {
   "codemirror_mode": {
    "name": "ipython",
    "version": 2
   },
   "file_extension": ".py",
   "mimetype": "text/x-python",
   "name": "python",
   "nbconvert_exporter": "python",
   "pygments_lexer": "ipython2",
   "version": "2.7.10"
  }
 },
 "nbformat": 4,
 "nbformat_minor": 0
}
