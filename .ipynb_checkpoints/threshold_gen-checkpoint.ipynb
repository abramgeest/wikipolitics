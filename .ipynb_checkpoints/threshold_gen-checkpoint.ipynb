{
 "cells": [
  {
   "cell_type": "code",
   "execution_count": 2,
   "metadata": {
    "collapsed": true
   },
   "outputs": [],
   "source": [
    "import requests\n",
    "import pandas as pd\n",
    "from pandas import read_sql\n",
    "import datetime\n",
    "import matplotlib.pyplot as plt\n",
    "import numpy as np\n",
    "import pymysql as mdb\n",
    "from sklearn.cluster import KMeans\n",
    "from sklearn.metrics import silhouette_samples, silhouette_score"
   ]
  },
  {
   "cell_type": "code",
   "execution_count": 64,
   "metadata": {
    "collapsed": false
   },
   "outputs": [
    {
     "name": "stdout",
     "output_type": "stream",
     "text": [
      "141.287492821\n",
      "[52 11  6  5  3  2  1  0  1  0  0  0  0  1  0  0  0  0  0  0  0  1  0  1  0\n",
      "  0  0  0  0  0  0  0  0  0  0  0  0  0  0  0  0  0  0  0  1]\n",
      "[0.0, 111.79743846153846, 54.941023076923074, 726.44615384615383, 77.983330769230776, 544.66025384615386, 86.184615384615398, 346.3384615384615, 125.74102307692307, 668.2615461538461, 247.21923846153842, 114.07692307692308, 71.301276923076927, 162.65897692307692, 167.6717923076923, 171.95385384615383, 560.28461538461534, 42.187176923076926, 176.13205384615384, 118.78717692307691, 133.02436153846153, 77.389746153846147, 3251.3653769230764, 221.41409999999999, 51.29615384615385, 216.03333076923079, 150.41153846153844, 123.93076923076923, 656.11538461538464, 39.094869230769227, 366.28974615384618, 37.929484615384617, 17.629476923076922, 26.469223076923075, 23.979492307692308, 8.4500000000000011, 68.162823076923075, 287.90513076923077, 23.278207692307692, 512.8423153846154, 36.097430769230769, 72.414107692307681, 126.6859, 51.33461538461539, 91.696161538461538, 982.93076923076922, 445.11025384615391, 34.108976923076924, 233.59359230769229, 3044.5679538461536, 833.4115384615385, 1846.332046153846, 6357.9371769230775, 197.71410769230772, 60.561538461538461, 3.5461538461538464, 643.59487692307687, 538.5589769230769, 6.4358999999999993, 414.9012923076923, 0.38973846153846153, 37.58204615384615, 21.729484615384614, 23.902561538461537, 58.716669230769234, 350.08973846153845, 50.682061538461539, 38.792307692307695, 5.7948692307692315, 3.1384615384615384, 6.3346153846153843, 327.63332307692303, 85.383330769230753, 1.5846153846153848, 18.820507692307693, 193.66539230769229, 4.9948692307692308, 2.9705076923076925, 17.149999999999999, 1176.1000000000001, 54.561538461538461, 92.329484615384615, 111.69230769230769, 27.070515384615383, 105.31153846153846]\n",
      "349.477556652\n",
      "thresh= 880.463462307\n",
      "i= 4\n",
      "880.463462307\n"
     ]
    },
    {
     "data": {
      "image/png": "[encoded data removed]",
      "text/plain": [
       "<matplotlib.figure.Figure at 0x10b74e110>"
      ]
     },
     "metadata": {},
     "output_type": "display_data"
    }
   ],
   "source": [
    "def datetime2str2(t):\n",
    "    return \"%4d%02d%02d\"%(t.year,t.month,t.day,)\n",
    "\n",
    "def gen_thresh(dateinput):\n",
    "    numtopics=84\n",
    "    numbins=45\n",
    "    \n",
    "    afile=\"/Users/abramvandergeest/mysql_insightwiki_auth.txt\"\n",
    "    a=open(afile)\n",
    "    passwd=a.readline().rstrip()\n",
    "    a.close()\n",
    "    host='localhost'; user='abram.ghost';db='wikidata'\n",
    "    con = mdb.connect(host, user, passwd, db,port=3307)\n",
    "    \n",
    "    datefin=dateinput+datetime.timedelta(days=14)\n",
    "    di=datetime2str2(dateinput)\n",
    "    dfin=datetime2str2(datefin)\n",
    "    \n",
    "    with con:\n",
    "        curt= con.cursor()\n",
    "        #sql=\"SELECT COUNT(*) FROM `topics` \"\n",
    "        \n",
    "        sql=\"SELECT `Id`,`topic_label`,`topic_string` FROM `topics`;\"\n",
    "        curt.execute(sql)\n",
    "        topics=[[0,'nothing','Filler to match index']]\n",
    "        for topic in curt:\n",
    "            topics.append(topic)\n",
    "    \n",
    "    data={}\n",
    "        \n",
    "    df=range(numtopics+1)\n",
    "    with con:\n",
    "        curt= con.cursor()\n",
    "        sql=\"SELECT `Id`,`topic_label`,`topic_string` FROM `topics`;\"\n",
    "        curt.execute(sql)\n",
    "        for row in curt:\n",
    "            cur = con.cursor()\n",
    "            sql='''SELECT `page_views`.`dateonly` AS `vd`, AVG(`page_views`.`count`) AS `vc`, \n",
    "                `topics`.`topic_label`,`topics`.`topic_string` \n",
    "                FROM `topics` INNER JOIN `page_views` ON `topics`.`ID` = `page_views`.`topic_id` \n",
    "                WHERE `topic_id`=%s GROUP BY `page_views`.`dateonly`   '''\n",
    "            data[row[1]]=read_sql(sql, con,params=[row[0]])\n",
    "            df[row[0]]=data[row[1]]\n",
    "    \n",
    "    topicdata=df\n",
    "    \n",
    "    #setting dates to take slice of data with\n",
    "    datefin=dateinput+datetime.timedelta(days=14)\n",
    "    di=datetime2str2(dateinput)\n",
    "    dfin=datetime2str2(datefin)\n",
    "    topicdata=df\n",
    "\n",
    "    #initializing array to hold the rows to cluster\n",
    "    #the 0th position is fake so that my index matches the sql index\n",
    "    clusinp=[]\n",
    "    d=topicdata[1]\n",
    "    lendays=len(d[ (d['vd']>di) & (d['vd']<dfin )]['vc'].values)\n",
    "    clusinp.append(np.average(np.zeros(lendays)))\n",
    "    \n",
    "    for index,topic in enumerate(topics):\n",
    "        if topic[0]!=0:\n",
    "            d=topicdata[topic[0]]\n",
    "            #if feat==True: #use the slope/variation features\n",
    "            #    p=gen_feat(d[ (d['vd']>di) & (d['vd']<dfin )]['vc'].values)\n",
    "            #else:  # just use the direct view counts\n",
    "            p=np.average(d[ (d['vd']>di) & (d['vd']<dfin )]['vc'].values)\n",
    "            #print len(p),type(p),p\n",
    "            clusinp.append(p)\n",
    "    \n",
    "    mclus=np.max(clusinp)\n",
    "    binsize=mclus/numbins\n",
    "    print binsize\n",
    "    bins_arange = np.arange(0, mclus + 1, binsize) \n",
    "    counts, edges = np.histogram(clusinp, bins=bins_arange)\n",
    "    \n",
    "    perthresh=0.825\n",
    "    for i in xrange(len(counts)):\n",
    "        if np.sum(counts[:i])>numtopics*perthresh:\n",
    "            break\n",
    "        #else:\n",
    "        #    print np.sum(counts[:i])\n",
    "\n",
    "    thresh= (i-1)*293.487820769\n",
    "\n",
    "    \n",
    "    print counts\n",
    "    print clusinp\n",
    "    print np.average(clusinp)\n",
    "    print \"thresh=\",thresh\n",
    "    print \"i=\",i\n",
    "    %matplotlib inline\n",
    "    plt.plot(counts)\n",
    "    return thresh\n",
    "    \n",
    "dateinput=datetime.datetime(2015,7,17,16)\n",
    "print gen_thresh(dateinput)"
   ]
  },
  {
   "cell_type": "code",
   "execution_count": null,
   "metadata": {
    "collapsed": true
   },
   "outputs": [],
   "source": []
  }
 ],
 "metadata": {
  "kernelspec": {
   "display_name": "Python 2",
   "language": "python",
   "name": "python2"
  },
  "language_info": {
   "codemirror_mode": {
    "name": "ipython",
    "version": 2
   },
   "file_extension": ".py",
   "mimetype": "text/x-python",
   "name": "python",
   "nbconvert_exporter": "python",
   "pygments_lexer": "ipython2",
   "version": "2.7.10"
  }
 },
 "nbformat": 4,
 "nbformat_minor": 0
}
