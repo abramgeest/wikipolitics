{
 "cells": [
  {
   "cell_type": "code",
   "execution_count": 1,
   "metadata": {
    "collapsed": true
   },
   "outputs": [],
   "source": [
    "import urllib\n",
    "import pandas as pd\n",
    "import numpy as np\n",
    "import datetime\n",
    "import string\n",
    "import pymysql as mdb"
   ]
  },
  {
   "cell_type": "code",
   "execution_count": 2,
   "metadata": {
    "collapsed": true
   },
   "outputs": [],
   "source": [
    "afile=\"/Users/abramvandergeest/mysql_insightwiki_auth.txt\"\n",
    "a=open(afile)\n",
    "passwd=a.readline().rstrip()\n",
    "a.close()\n",
    "host='localhost'; user='abram.ghost';db='wikidata'\n",
    "con = mdb.connect(host, user, passwd, db,port=3307)\n",
    "\n"
   ]
  },
  {
   "cell_type": "code",
   "execution_count": 3,
   "metadata": {
    "collapsed": false
   },
   "outputs": [],
   "source": [
    "bfile=\"/Users/abramvandergeest/Dropbox/insight_work/topic_list2.txt\"\n",
    "b=open(bfile)\n",
    "blines=b.readlines()\n",
    "toptab=[[\"Blank\",\"Blank\"]]\n",
    "for row in blines:\n",
    "    toptab.append(row.rstrip().split(', '))\n",
    "\n",
    "b.close()\n",
    "\n",
    "#for row in toptab:\n",
    "#    print row\n"
   ]
  },
  {
   "cell_type": "code",
   "execution_count": 4,
   "metadata": {
    "collapsed": false
   },
   "outputs": [],
   "source": [
    "if False:\n",
    "    with con:\n",
    "        cur = con.cursor()\n",
    "        cur.execute(\"SELECT `Id`,`topic_label`,`topic_string` FROM `topics`;\")\n",
    "        for row in cur:\n",
    "            cur2 = con.cursor()\n",
    "            #print row\n",
    "            if row[2]==toptab[row[0]][0]:\n",
    "                sql='UPDATE `topics` SET `topic_label`=\"%s\" WHERE `ID`=%d'%(toptab[row[0]][1],row[0])\n",
    "                #Injection bad, but I am running it once and that is it\n",
    "                print sql\n",
    "                cur2.execute(sql)\n",
    "            else:\n",
    "                print row[2],toptab[row[0]][0],\"\\n\"\n",
    "        "
   ]
  },
  {
   "cell_type": "code",
   "execution_count": 5,
   "metadata": {
    "collapsed": false
   },
   "outputs": [
    {
     "name": "stdout",
     "output_type": "stream",
     "text": [
      "(1, 'Joe Biden', 'Joe Biden') HERE!!!!\n",
      "(2, 'Lincoln Chafee', 'Lincoln Chafee') HERE!!!!\n",
      "(3, 'Hillary Clinton', 'Hillary Clinton') HERE!!!!\n",
      "(4, \"Martin O'Malley\", 'Martin O Malley') HERE!!!!\n",
      "(5, 'Bernie Sanders', 'Bernie Sanders') HERE!!!!\n",
      "(6, 'Jim Webb', 'Jim Webb') HERE!!!!\n",
      "(7, 'Jeb Bush', 'Jeb Bush') HERE!!!!\n",
      "(8, 'Ben Carson', 'Ben Carson') HERE!!!!\n",
      "(9, 'Chris Christie', 'Chris Christie') HERE!!!!\n",
      "(10, 'Ted Cruz', 'Ted Cruz') HERE!!!!\n",
      "(11, 'Carly Fiorina', 'Carly Fiorina') HERE!!!!\n",
      "(12, 'Jim Gilmore', 'Jim Gilmore') HERE!!!!\n",
      "(13, 'Lindsey Graham', 'Lindsey Graham') HERE!!!!\n",
      "(14, 'Mike Huckabee', 'Mike Huckabee') HERE!!!!\n",
      "(15, 'Bobby Jindal', 'Bobby Jindal') HERE!!!!\n",
      "(16, 'John Kasich', 'John Kasich') HERE!!!!\n",
      "(17, 'George Pataki', 'George Pataki') HERE!!!!\n",
      "(18, 'Rand Paul', 'Rand Paul') HERE!!!!\n",
      "(19, 'Rick Perry', 'Rick Perry') HERE!!!!\n",
      "(20, 'Marco Rubio', 'Marco Rubio') HERE!!!!\n",
      "(21, 'Rick Santorum', 'Rick Santorum') HERE!!!!\n",
      "(22, 'Donald Trump', 'Donald Trump') HERE!!!!\n",
      "(23, 'Scott Walker', 'Scott Walker') HERE!!!!\n",
      "(24, 'Tea Party Movement', 'Tea Party movement') HERE!!!!\n",
      "(25, 'Legality of Cannabis', 'Legality cannabis') HERE!!!!\n",
      "(26, 'Marijuana', 'marijuana') HERE!!!!\n",
      "(27, 'Russian Intervention in Ukraine', 'Russia Ukraine') HERE!!!!\n",
      "(28, 'Immigration/Immigrants', 'Immigra') HERE!!!!\n",
      "(29, 'Illegal Immigration/Immigrants', 'illegal immigra united states') HERE!!!!\n",
      "(30, 'Gun Law', 'Gun law') HERE!!!!\n",
      "(31, 'Gun Control', 'Gun control') HERE!!!!\n",
      "(32, 'US-Israel Relations', 'Israel United States relations') HERE!!!!\n",
      "(33, 'Economic Inequality', 'Economic inequality') HERE!!!!\n",
      "(34, 'Income Inequality', 'Income inequality United States') HERE!!!!\n",
      "(35, 'Wealth Inequality', 'Wealth inequality United States') HERE!!!!\n",
      "(36, 'International Trade and the Economy', 'International trade') HERE!!!!\n",
      "(37, 'Minimum Wage', 'Minimum Wage') HERE!!!!\n",
      "(38, 'Death Penalty', 'Death Penalty') HERE!!!!\n",
      "(39, 'Capital Punishment', 'Capital Punishment') HERE!!!!\n",
      "(40, 'Keystone Pipeline', 'Keystone Pipeline') HERE!!!!\n",
      "(41, 'Black Lives Matter', 'Black Lives Matter') HERE!!!!\n",
      "(42, 'US-Cuba Relations', 'United States Cuba Relations') HERE!!!!\n",
      "(43, 'Health Care Reform', 'health care reform') HERE!!!!\n",
      "(44, 'Obamacare', 'affordable care act') HERE!!!!\n",
      "(45, 'Islamic State', 'islamic state') HERE!!!!\n",
      "(46, 'The Iraq War', 'iraq war') HERE!!!!\n",
      "(47, 'Iran Nuclear Deal', 'iran nuclear deal') HERE!!!!\n",
      "(48, 'War in Afghanistan', 'war in afghanistan') HERE!!!!\n",
      "(49, 'Syria', 'syria') HERE!!!!\n",
      "(50, 'North Korea', 'north korea') HERE!!!!\n",
      "(51, 'South Korea', 'south korea') HERE!!!!\n",
      "(52, 'China', 'china') HERE!!!!\n",
      "(53, 'Guantanamo Bay', 'guantanamo bay') HERE!!!!\n",
      "(54, 'Economy', 'economy of the united states') HERE!!!!\n",
      "(55, 'USAjobs.gov', 'USA jobs') HERE!!!!\n",
      "(56, 'Terrorism', 'terrorism') HERE!!!!\n",
      "(57, 'Immigration', 'immigration') HERE!!!!\n",
      "(58, 'Anchor Baby', 'anchor baby') HERE!!!!\n",
      "(59, 'Climate Change', 'climate change') HERE!!!!\n",
      "(60, 'Federal Deficit', 'federal deficit') HERE!!!!\n",
      "(61, 'IRS', 'internal revenue service') HERE!!!!\n",
      "(62, 'Foreign Policy', 'foreign policy united states') HERE!!!!\n",
      "(63, 'Racism', 'racism united states') HERE!!!!\n",
      "(64, 'Federal budget', 'Federal budget united states') HERE!!!!\n",
      "(65, 'Taxes', 'tax united states') HERE!!!!\n",
      "(66, 'Political Parties', 'political part united states') HERE!!!!\n",
      "(67, 'Abortion', 'Abortion united states') HERE!!!!\n",
      "(68, 'Pro-Life', 'Pro Life united states') HERE!!!!\n",
      "(69, 'Pro-Choice', 'Pro Choice united states') HERE!!!!\n",
      "(70, 'Birth Control', 'birth control united states') HERE!!!!\n",
      "(71, 'Planned Parenthood', 'Planned Parenthood') HERE!!!!\n",
      "(72, 'Energy', 'Energy united states') HERE!!!!\n",
      "(73, 'Environment', 'Environmental issues united states') HERE!!!!\n",
      "(74, 'Labor Unions', 'Labor Unions united states') HERE!!!!\n",
      "(75, 'Marriage', 'Marriage United States') HERE!!!!\n",
      "(76, 'Illegal Drugs', 'illegal drugs') HERE!!!!\n",
      "(77, 'Science Funding', 'Science funding') HERE!!!!\n",
      "(78, 'National Science Foundation', 'national science foundation') HERE!!!!\n",
      "(79, 'NASA', 'NASA') HERE!!!!\n",
      "(80, 'Space Exploration', 'Space Exploration') HERE!!!!\n",
      "(81, 'Baltimore 2015 Riots', 'baltimore 2015') HERE!!!!\n",
      "(82, 'Freddie Gray', 'Freddie Gray') HERE!!!!\n",
      "(83, 'Ferguson Unrest', 'ferguson unrest') HERE!!!!\n",
      "(84, 'Michael Brown', 'Michael Brown') HERE!!!!\n"
     ]
    }
   ],
   "source": [
    "with con:\n",
    "    cur = con.cursor()\n",
    "    cur.execute(\"SELECT `Id`,`topic_label`,`topic_string` FROM `topics`;\")\n",
    "    for row in cur:\n",
    "        print row,\"HERE!!!!\""
   ]
  }
 ],
 "metadata": {
  "kernelspec": {
   "display_name": "Python 2",
   "language": "python",
   "name": "python2"
  },
  "language_info": {
   "codemirror_mode": {
    "name": "ipython",
    "version": 2
   },
   "file_extension": ".py",
   "mimetype": "text/x-python",
   "name": "python",
   "nbconvert_exporter": "python",
   "pygments_lexer": "ipython2",
   "version": "2.7.10"
  }
 },
 "nbformat": 4,
 "nbformat_minor": 0
}
