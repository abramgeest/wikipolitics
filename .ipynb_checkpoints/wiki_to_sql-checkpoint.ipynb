{
 "cells": [
  {
   "cell_type": "code",
   "execution_count": 8,
   "metadata": {
    "collapsed": false
   },
   "outputs": [],
   "source": [
    "import urllib\n",
    "import pandas as pd\n",
    "import numpy as np\n",
    "import datetime\n",
    "import string\n",
    "import pymysql as mdb\n",
    "maketables=False\n",
    "maketables=True"
   ]
  },
  {
   "cell_type": "code",
   "execution_count": 9,
   "metadata": {
    "collapsed": true
   },
   "outputs": [],
   "source": [
    "topicsfile=\"/Users/abramvandergeest/Dropbox/insight_work/topic_list.txt\"\n",
    "f=open(topicsfile)\n",
    "topics=f.readlines()\n",
    "f.close()"
   ]
  },
  {
   "cell_type": "code",
   "execution_count": 10,
   "metadata": {
    "collapsed": true
   },
   "outputs": [],
   "source": [
    "con = mdb.connect('localhost', 'abram.ghost', '', 'wikidata')\n",
    "####I NEED TO SET THIS TO A NON-GITHUB AUTHENTICATION LOCATION AND CHANGE PASSWORD\n",
    "\n",
    "#I should also create the  database if it doesn't exist"
   ]
  },
  {
   "cell_type": "code",
   "execution_count": 11,
   "metadata": {
    "collapsed": true
   },
   "outputs": [],
   "source": [
    "if maketables==True:\n",
    "    #Makes topics table\n",
    "    with con:\n",
    "        cur = con.cursor()\n",
    "        cur.execute(\"DROP TABLE IF EXISTS `topics`;\")\n",
    "        str=\"CREATE TABLE `topics` (`Id` INT PRIMARY KEY AUTO_INCREMENT, `topic_label` VARCHAR(64), `topic_string` VARCHAR(64));\"\n",
    "        cur.execute(str)\n",
    "    \n",
    "    #Populate topics table\n",
    "    with con:\n",
    "        for topic in topics:\n",
    "            label=\"\".join(topic.lower().split())\n",
    "            string=topic.rstrip()\n",
    "            sql=\"INSERT INTO `topics` (`topic_label`,`topic_string`) VALUES (%s,%s);\"\n",
    "            cur.execute(sql,(label,string))\n",
    "        \n",
    "    #Makes page_views table\n",
    "    with con:\n",
    "        cur = con.cursor()\n",
    "        cur.execute(\"DROP TABLE IF EXISTS `page_views`;\")\n",
    "        str=\"CREATE TABLE `page_views` (`Id` INT PRIMARY KEY AUTO_INCREMENT, `topic_id` INT, `count` INT, `date` VARCHAR(64));\"\n",
    "        cur.execute(str)    "
   ]
  },
  {
   "cell_type": "code",
   "execution_count": 12,
   "metadata": {
    "collapsed": true
   },
   "outputs": [],
   "source": [
    "def get_unzip(d,fo,fo2):\n",
    "    wikiurl=\"http://dumps.wikimedia.org/other/pagecounts-raw/%4d/%4d-%02d/\"%(d.year,d.year,d.month)\n",
    "    gzfile=\"pagecounts-%4d%02d%02d-%02d0000.gz\"%(d.year,d.month,d.day,d.hour)\n",
    "    print gzfile\n",
    "    fn=wikiurl+gzfile\n",
    "    urllib.urlretrieve(fn,fo)\n",
    "    !gunzip -c $fo>$fo2\n",
    "    return\n",
    "\n",
    "def csv_to_reduceddf(fo2):\n",
    "    allwiki=pd.read_csv(fo2,delim_whitespace=True)\n",
    "    allwiki.columns=['lang','article','views','size']\n",
    "    enwiki=allwiki[allwiki['lang']=='en']\n",
    "    enwiki=enwiki[enwiki['size']>=50000]\n",
    "    return(enwiki)"
   ]
  },
  {
   "cell_type": "code",
   "execution_count": 13,
   "metadata": {
    "collapsed": false
   },
   "outputs": [
    {
     "name": "stdout",
     "output_type": "stream",
     "text": [
      "starting\n"
     ]
    }
   ],
   "source": [
    "#creating a dataframe with all english pages of a large size\n",
    "print \"starting\"\n",
    "year=2015\n",
    "month=3\n",
    "day=1\n",
    "hour=16\n",
    "fo=\"/Users/abramvandergeest/wikidata/temp.gz\"\n",
    "fo2=\"/Users/abramvandergeest/wikidata/temp.txt\"\n",
    "d=datetime.datetime(year,month,day,hour)\n",
    "dt=datetime.timedelta(days=+1)"
   ]
  },
  {
   "cell_type": "code",
   "execution_count": null,
   "metadata": {
    "collapsed": false
   },
   "outputs": [],
   "source": [
    "print \"entering loop\"\n",
    "\n",
    "while d<datetime.datetime(2015,4,1,17):\n",
    "    get_unzip(d,fo,fo2)  #gets the gz file at wikipedia and unzips it\n",
    "    print \"it is unzipped\"\n",
    "        \n",
    "    enwiki=csv_to_reduceddf(fo2) #takes the unzipped file and pairs it down and puts it into a df\n",
    "    print \"english entries separated\"\n",
    "    \n",
    "    date='%4d%02d%02d%02d'%(d.year,d.month,d.day,d.hour)\n",
    "    dic={}\n",
    "    views=[]\n",
    "    with con:\n",
    "        cur = con.cursor()\n",
    "        sql=\"SELECT `Id`,`topic_label`,`topic_string` FROM `topics`;\"\n",
    "        cur.execute(sql)\n",
    "        for row in cur:\n",
    "            tops=row[2].rstrip().split()\n",
    "            twiki=enwiki[np.logical_and.reduce([enwiki['article'].str.contains(top,case=False) for top in tops ])==True]\n",
    "            t=row[2].rstrip()\n",
    "            dic[t]=twiki['views'].sum(axis=0)\n",
    "            #print row[0],dic[t],date\n",
    "            views.append([row[0],dic[t],date])\n",
    "    print \"pageviews sorted\"\n",
    "    \n",
    "    with con:\n",
    "        cur = con.cursor()\n",
    "        for view in views:\n",
    "            sql=\"INSERT INTO `page_views` (`topic_id`,`count`,`date`) VALUES (%s,%s,%s);\"\n",
    "            cur.execute(sql,view)\n",
    "    \n",
    "    print date\n",
    "    d+=dt\n",
    "    "
   ]
  }
 ],
 "metadata": {
  "kernelspec": {
   "display_name": "Python 2",
   "language": "python",
   "name": "python2"
  },
  "language_info": {
   "codemirror_mode": {
    "name": "ipython",
    "version": 2
   },
   "file_extension": ".py",
   "mimetype": "text/x-python",
   "name": "python",
   "nbconvert_exporter": "python",
   "pygments_lexer": "ipython2",
   "version": "2.7.10"
  }
 },
 "nbformat": 4,
 "nbformat_minor": 0
}
