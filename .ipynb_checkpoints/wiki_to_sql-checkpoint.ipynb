{
 "cells": [
  {
   "cell_type": "code",
   "execution_count": 32,
   "metadata": {
    "collapsed": true
   },
   "outputs": [],
   "source": [
    "import urllib\n",
    "import pandas as pd\n",
    "import numpy as np\n",
    "import datetime\n",
    "import string\n",
    "import pymysql as mdb"
   ]
  },
  {
   "cell_type": "code",
   "execution_count": 33,
   "metadata": {
    "collapsed": true
   },
   "outputs": [],
   "source": [
    "topicsfile=\"/Users/abramvandergeest/Dropbox/insight_work/topic_list.txt\"\n",
    "f=open(topicsfile)\n",
    "topics=f.readlines()\n",
    "f.close()"
   ]
  },
  {
   "cell_type": "code",
   "execution_count": 34,
   "metadata": {
    "collapsed": true
   },
   "outputs": [],
   "source": [
    "con = mdb.connect('localhost', 'abram.ghost', '', 'wikidata')\n",
    "####I NEED TO SET THIS TO A NON-GITHUB AUTHENTICATION LOCATION AND CHANGE PASSWORD\n",
    "\n",
    "#I should also create the  database if it doesn't exist"
   ]
  },
  {
   "cell_type": "code",
   "execution_count": 35,
   "metadata": {
    "collapsed": true
   },
   "outputs": [],
   "source": [
    "#Makes topics table\n",
    "with con:\n",
    "    cur = con.cursor()\n",
    "    cur.execute(\"DROP TABLE IF EXISTS `topics`;\")\n",
    "    str=\"CREATE TABLE `topics` (`Id` INT PRIMARY KEY AUTO_INCREMENT, `topic_label` VARCHAR(64), `topic_string` VARCHAR(64));\"\n",
    "    cur.execute(str)\n",
    "    "
   ]
  },
  {
   "cell_type": "code",
   "execution_count": 36,
   "metadata": {
    "collapsed": false
   },
   "outputs": [],
   "source": [
    "#Populate topics table\n",
    "with con:\n",
    "    for topic in topics:\n",
    "        label=\"\".join(topic.lower().split())\n",
    "        string=topic.rstrip()\n",
    "        sql=\"INSERT INTO `topics` (`topic_label`,`topic_string`) VALUES (%s,%s);\"\n",
    "        cur.execute(sql,(label,string))"
   ]
  },
  {
   "cell_type": "code",
   "execution_count": 37,
   "metadata": {
    "collapsed": false
   },
   "outputs": [],
   "source": [
    "#Makes page_views table\n",
    "with con:\n",
    "    cur = con.cursor()\n",
    "    cur.execute(\"DROP TABLE IF EXISTS `page_views`;\")\n",
    "    str=\"CREATE TABLE `page_views` (`Id` INT PRIMARY KEY AUTO_INCREMENT, `topic_id` INT, `count` INT, `date` VARCHAR(64));\"\n",
    "    cur.execute(str)\n",
    "    "
   ]
  },
  {
   "cell_type": "code",
   "execution_count": 28,
   "metadata": {
    "collapsed": true
   },
   "outputs": [],
   "source": [
    "#creating a dataframe with all english pages of a large size\n",
    "fn=\"/Users/abramvandergeest/wikidata/pagecounts-20150501-000000.gz\"\n",
    "fo=\"/Users/abramvandergeest/wikidata/temp.gz\"\n",
    "fo2=\"/Users/abramvandergeest/wikidata/temp.txt\"\n",
    "urllib.urlretrieve (fn,fo)\n",
    "!gunzip -c $fo>$fo2\n",
    "allwiki=pd.read_csv(fo2,delim_whitespace=True)\n",
    "allwiki.columns=['lang','article','views','size']\n",
    "enwiki=allwiki[allwiki['lang']=='en']\n",
    "enwiki=enwiki[enwiki['size']>=50000]"
   ]
  },
  {
   "cell_type": "code",
   "execution_count": null,
   "metadata": {
    "collapsed": true
   },
   "outputs": [],
   "source": [
    "#\n",
    "date='2015050100'\n",
    "dic={}\n",
    "toplist=[]\n",
    "with con:\n",
    "    cur = con.cursor()\n",
    "    sql=\"SELECT `Id`,`topic_label`,`topic_string` FROM `topics`\"\n",
    "    cur.execute(sql)\n",
    "    for row in cur:\n",
    "        tops=row[2].rstrip().split()\n",
    "        twiki=enwiki[np.logical_and.reduce([enwiki['article'].str.contains(top,case=False) for top in tops ])==True]\n",
    "        t=row[2].rstrip()\n",
    "        dic[t]=twiki['views'].sum(axis=0)\n",
    "        "
   ]
  },
  {
   "cell_type": "code",
   "execution_count": 42,
   "metadata": {
    "collapsed": false
   },
   "outputs": [
    {
     "name": "stdout",
     "output_type": "stream",
     "text": [
      "Federal budget united states 95\n",
      "Black Lives Matter 49\n",
      "USA jobs 10\n",
      "Tea Party movement 97\n",
      "economy of the united states 77\n",
      "ferguson unrest 201\n",
      "climate change 530\n",
      "illegal immigra united states 86\n",
      "tax united states 466\n",
      "marijuana 68\n",
      "anchor baby 5\n",
      "Rick Perry 49\n",
      "north korea 866\n",
      "federal deficit 1\n",
      "Mike Huckabee 40\n",
      "Minimum Wage 224\n",
      "internal revenue service 56\n",
      "baltimore 2015 5940\n",
      "national science foundation 27\n",
      "Planned Parenthood 79\n",
      "Keystone Pipeline 56\n",
      "Pro Choice united states 4\n",
      "Ted Cruz 591\n",
      "Martin O Malley 194\n",
      "Pro Life united states 17\n",
      "Chris Christie 509\n",
      "Russia Ukraine 108\n",
      "Joe Biden 98\n",
      "Energy united states 151\n",
      "Legality cannabis 148\n",
      "racism united states 94\n",
      "islamic state 770\n",
      "United States Cuba Relations 59\n",
      "Space Exploration 97\n",
      "Bobby Jindal 68\n",
      "Bernie Sanders 3904\n",
      "south korea 1678\n",
      "Economic inequality 88\n",
      "Scott Walker 82\n",
      "Wealth inequality United States 18\n",
      "Marriage United States 338\n",
      "Rand Paul 253\n",
      "Abortion united states 74\n",
      "china 7652\n",
      "illegal drugs 13\n",
      "war in afghanistan 353\n",
      "Gun control 50\n",
      "Jeb Bush 344\n",
      "immigration 945\n",
      "Science funding 9\n",
      "political part united states 97\n",
      "Donald Trump 156\n",
      "Labor Unions united states 68\n",
      "Marco Rubio 160\n",
      "Jim Webb 88\n",
      "Gun law 412\n",
      "affordable care act 143\n",
      "syria 2422\n",
      "Freddie Gray 3699\n",
      "iraq war 624\n",
      "Carly Fiorina 417\n",
      "terrorism 588\n",
      "iran nuclear deal 6\n",
      "Israel United States relations 29\n",
      "Rick Santorum 53\n",
      "Environmental issues united states 3\n",
      "Death Penalty 51\n",
      "International trade 99\n",
      "Lindsey Graham 26\n",
      "guantanamo bay 156\n",
      "foreign policy united states 70\n",
      "Hillary Clinton 1015\n",
      "John Kasich 63\n",
      "Jim Gilmore 6\n",
      "George Pataki 99\n",
      "NASA 1160\n",
      "Income inequality United States 88\n",
      "Capital Punishment 1841\n",
      "Michael Brown 480\n",
      "health care reform 50\n",
      "birth control united states 10\n",
      "Immigra 1064\n",
      "Ben Carson 113\n",
      "Lincoln Chafee 57\n"
     ]
    }
   ],
   "source": [
    "for key in dic:\n",
    "    print key,dic[key]"
   ]
  },
  {
   "cell_type": "code",
   "execution_count": null,
   "metadata": {
    "collapsed": true
   },
   "outputs": [],
   "source": []
  }
 ],
 "metadata": {
  "kernelspec": {
   "display_name": "Python 2",
   "language": "python",
   "name": "python2"
  },
  "language_info": {
   "codemirror_mode": {
    "name": "ipython",
    "version": 2
   },
   "file_extension": ".py",
   "mimetype": "text/x-python",
   "name": "python",
   "nbconvert_exporter": "python",
   "pygments_lexer": "ipython2",
   "version": "2.7.10"
  }
 },
 "nbformat": 4,
 "nbformat_minor": 0
}
