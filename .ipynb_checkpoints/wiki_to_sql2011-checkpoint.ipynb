{
 "cells": [
  {
   "cell_type": "code",
   "execution_count": 1,
   "metadata": {
    "collapsed": true
   },
   "outputs": [],
   "source": [
    "import urllib\n",
    "import pandas as pd\n",
    "import numpy as np\n",
    "import datetime\n",
    "import string\n",
    "import pymysql as mdb"
   ]
  },
  {
   "cell_type": "code",
   "execution_count": 2,
   "metadata": {
    "collapsed": false
   },
   "outputs": [],
   "source": [
    "maketables=False"
   ]
  },
  {
   "cell_type": "code",
   "execution_count": 3,
   "metadata": {
    "collapsed": true
   },
   "outputs": [],
   "source": [
    "topicsfile=\"/Users/abramvandergeest/Dropbox/insight_work/topic_list2011.txt\"\n",
    "f=open(topicsfile)\n",
    "topics=f.readlines()\n",
    "f.close()"
   ]
  },
  {
   "cell_type": "code",
   "execution_count": 4,
   "metadata": {
    "collapsed": true
   },
   "outputs": [],
   "source": [
    "afile=\"/Users/abramvandergeest/mysql_insightwiki_auth.txt\"\n",
    "a=open(afile)\n",
    "passwd=a.readline().rstrip()\n",
    "a.close()\n",
    "host='localhost'; user='abram.ghost';db='wikidata2011'\n",
    "\n",
    "con = mdb.connect(host, user, passwd, db)\n",
    "\n",
    "#I should also create the  database if it doesn't exist"
   ]
  },
  {
   "cell_type": "code",
   "execution_count": 5,
   "metadata": {
    "collapsed": false
   },
   "outputs": [],
   "source": [
    "if maketables==True:\n",
    "    #Makes topics table\n",
    "    with con:\n",
    "        cur = con.cursor()\n",
    "        cur.execute(\"DROP TABLE IF EXISTS `topics`;\")\n",
    "        str=\"CREATE TABLE `topics` (`Id` INT PRIMARY KEY AUTO_INCREMENT, `topic_label` VARCHAR(64), `topic_string` VARCHAR(64));\"\n",
    "        cur.execute(str)\n",
    "    \n",
    "    #Populate topics table\n",
    "    with con:\n",
    "        for topic in topics:\n",
    "            label=\"\".join(topic.lower().split())\n",
    "            string=topic.rstrip()\n",
    "            sql=\"INSERT INTO `topics` (`topic_label`,`topic_string`) VALUES (%s,%s);\"\n",
    "            cur.execute(sql,(label,string))\n",
    "        \n",
    "    #Makes page_views table\n",
    "    with con:\n",
    "        cur = con.cursor()\n",
    "        cur.execute(\"DROP TABLE IF EXISTS `page_views`;\")\n",
    "        str=\"CREATE TABLE `page_views` (`Id` INT PRIMARY KEY AUTO_INCREMENT, `topic_id` INT, `count` INT, `date` VARCHAR(64));\"\n",
    "        cur.execute(str)    "
   ]
  },
  {
   "cell_type": "code",
   "execution_count": 6,
   "metadata": {
    "collapsed": true
   },
   "outputs": [],
   "source": [
    "def get_unzip(d,fo,fo2):\n",
    "    wikiurl=\"http://dumps.wikimedia.org/other/pagecounts-raw/%4d/%4d-%02d/\"%(d.year,d.year,d.month)\n",
    "    gzfile=\"pagecounts-%4d%02d%02d-%02d0000.gz\"%(d.year,d.month,d.day,d.hour)\n",
    "    print gzfile\n",
    "    fn=wikiurl+gzfile\n",
    "    urllib.urlretrieve(fn,fo)\n",
    "    !gunzip -c $fo>$fo2\n",
    "    return\n",
    "\n",
    "def csv_to_reduceddf(fo2):\n",
    "    allwiki=pd.read_csv(fo2,delim_whitespace=True)\n",
    "    allwiki.columns=['lang','article','views','size']\n",
    "    enwiki=allwiki[allwiki['lang']=='en']\n",
    "    enwiki=enwiki[enwiki['size']>=50000]\n",
    "    return(enwiki)"
   ]
  },
  {
   "cell_type": "code",
   "execution_count": 7,
   "metadata": {
    "collapsed": false
   },
   "outputs": [
    {
     "name": "stdout",
     "output_type": "stream",
     "text": [
      "starting\n",
      "end date is : 2012-02-01 17:00:00\n"
     ]
    }
   ],
   "source": [
    "#creating a dataframe with all english pages of a large size\n",
    "print \"starting\"\n",
    "year=2011\n",
    "month=12\n",
    "day=21\n",
    "hour=16\n",
    "fo=\"/Users/abramvandergeest/wikidata/temp.gz\"\n",
    "fo2=\"/Users/abramvandergeest/wikidata/temp.txt\"\n",
    "d=datetime.datetime(year,month,day,hour)\n",
    "dend=datetime.datetime(2012,2,1,17)\n",
    "#dend=datetime.datetime.now()\n",
    "print \"end date is :\",dend\n",
    "dt=datetime.timedelta(days=+1)"
   ]
  },
  {
   "cell_type": "code",
   "execution_count": null,
   "metadata": {
    "collapsed": false
   },
   "outputs": [],
   "source": [
    "print \"entering loop\"\n",
    "\n",
    "while d<datetime.datetime(dend.year,dend.month,dend.day,dend.hour):\n",
    "    try:\n",
    "        get_unzip(d,fo,fo2)  #gets the gz file at wikipedia and unzips it\n",
    "        print \"it is unzipped\"\n",
    "        \n",
    "        enwiki=csv_to_reduceddf(fo2) #takes the unzipped file and pairs it down and puts it into a df\n",
    "        print \"english entries separated\"\n",
    "        \n",
    "        date='%4d%02d%02d%02d'%(d.year,d.month,d.day,d.hour)\n",
    "        dic={}\n",
    "        views=[]\n",
    "        with con:\n",
    "            cur = con.cursor()\n",
    "            sql=\"SELECT `Id`,`topic_label`,`topic_string` FROM `topics`;\"\n",
    "            cur.execute(sql)\n",
    "            for row in cur:\n",
    "                tops=row[2].rstrip().split()\n",
    "                twiki=enwiki[np.logical_and.reduce([enwiki['article'].str.contains(top,case=False) for top in tops ])==True]\n",
    "                t=row[2].rstrip()\n",
    "                dic[t]=twiki['views'].sum(axis=0)\n",
    "                #print row[0],dic[t],date\n",
    "                views.append([row[0],dic[t],date])\n",
    "        print \"pageviews sorted\"\n",
    "        \n",
    "        with con:\n",
    "            cur = con.cursor()\n",
    "            for view in views:\n",
    "                sql=\"INSERT INTO `page_views` (`topic_id`,`count`,`date`) VALUES (%s,%s,%s);\"\n",
    "                cur.execute(sql,view)\n",
    "    \n",
    "        print date\n",
    "        d+=dt\n",
    "    except Exception, e:    \n",
    "        print \"Hit an exception but we are continuing: %s\",e\n",
    "        d+=dt"
   ]
  },
  {
   "cell_type": "markdown",
   "metadata": {
    "collapsed": true
   },
   "source": [
    "pagecounts-20110310-160000.gz to pagecounts-20110315-160000.gz gz didn't exist\n",
    "pagecounts-20110303-160000.gz to pagecounts-20110305-160000.gz gz didn't exist\n",
    "pagecounts-20110625-160000.gz to pagecounts-20110627-160000.gz gz didn't exist\n",
    "pagecounts-20110610-160000.gz && pagecounts-20110612-160000.gz  gz didn't exist\n",
    "pagecounts-20110606-160000.gz  gz didn't exist\n",
    "pagecounts-20110528-160000.gz to pagecounts-20110530-160000.gz gz didn't exist\n",
    "pagecounts-20110519-160000.gz gz didn't exist\n",
    "pagecounts-20110904-160000.gz, pagecounts-20110908-160000.gz, pagecounts-20110912-160000.gz don't exist\n",
    "pagecounts-20110916-160000.gz, pagecounts-20111001-160000.gz, pagecounts-20111012-160000.gz\n"
   ]
  },
  {
   "cell_type": "code",
   "execution_count": null,
   "metadata": {
    "collapsed": true
   },
   "outputs": [],
   "source": []
  }
 ],
 "metadata": {
  "kernelspec": {
   "display_name": "Python 2",
   "language": "python",
   "name": "python2"
  },
  "language_info": {
   "codemirror_mode": {
    "name": "ipython",
    "version": 2
   },
   "file_extension": ".py",
   "mimetype": "text/x-python",
   "name": "python",
   "nbconvert_exporter": "python",
   "pygments_lexer": "ipython2",
   "version": "2.7.10"
  }
 },
 "nbformat": 4,
 "nbformat_minor": 0
}
