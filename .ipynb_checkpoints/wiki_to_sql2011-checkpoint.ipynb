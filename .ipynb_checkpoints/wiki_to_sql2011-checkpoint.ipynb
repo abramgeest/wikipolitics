{
 "cells": [
  {
   "cell_type": "code",
   "execution_count": 1,
   "metadata": {
    "collapsed": true
   },
   "outputs": [],
   "source": [
    "import urllib\n",
    "import pandas as pd\n",
    "import numpy as np\n",
    "import datetime\n",
    "import string\n",
    "import pymysql as mdb"
   ]
  },
  {
   "cell_type": "code",
   "execution_count": 6,
   "metadata": {
    "collapsed": false
   },
   "outputs": [],
   "source": [
    "maketables=False"
   ]
  },
  {
   "cell_type": "code",
   "execution_count": 7,
   "metadata": {
    "collapsed": true
   },
   "outputs": [],
   "source": [
    "topicsfile=\"/Users/abramvandergeest/Dropbox/insight_work/topic_list2011.txt\"\n",
    "f=open(topicsfile)\n",
    "topics=f.readlines()\n",
    "f.close()"
   ]
  },
  {
   "cell_type": "code",
   "execution_count": 8,
   "metadata": {
    "collapsed": true
   },
   "outputs": [],
   "source": [
    "afile=\"/Users/abramvandergeest/mysql_insightwiki_auth.txt\"\n",
    "a=open(afile)\n",
    "passwd=a.readline().rstrip()\n",
    "a.close()\n",
    "host='localhost'; user='abram.ghost';db='wikidata2011'\n",
    "\n",
    "con = mdb.connect(host, user, passwd, db)\n",
    "\n",
    "#I should also create the  database if it doesn't exist"
   ]
  },
  {
   "cell_type": "code",
   "execution_count": 9,
   "metadata": {
    "collapsed": false
   },
   "outputs": [],
   "source": [
    "if maketables==True:\n",
    "    #Makes topics table\n",
    "    with con:\n",
    "        cur = con.cursor()\n",
    "        cur.execute(\"DROP TABLE IF EXISTS `topics`;\")\n",
    "        str=\"CREATE TABLE `topics` (`Id` INT PRIMARY KEY AUTO_INCREMENT, `topic_label` VARCHAR(64), `topic_string` VARCHAR(64));\"\n",
    "        cur.execute(str)\n",
    "    \n",
    "    #Populate topics table\n",
    "    with con:\n",
    "        for topic in topics:\n",
    "            label=\"\".join(topic.lower().split())\n",
    "            string=topic.rstrip()\n",
    "            sql=\"INSERT INTO `topics` (`topic_label`,`topic_string`) VALUES (%s,%s);\"\n",
    "            cur.execute(sql,(label,string))\n",
    "        \n",
    "    #Makes page_views table\n",
    "    with con:\n",
    "        cur = con.cursor()\n",
    "        cur.execute(\"DROP TABLE IF EXISTS `page_views`;\")\n",
    "        str=\"CREATE TABLE `page_views` (`Id` INT PRIMARY KEY AUTO_INCREMENT, `topic_id` INT, `count` INT, `date` VARCHAR(64));\"\n",
    "        cur.execute(str)    "
   ]
  },
  {
   "cell_type": "code",
   "execution_count": 10,
   "metadata": {
    "collapsed": true
   },
   "outputs": [],
   "source": [
    "def get_unzip(d,fo,fo2):\n",
    "    wikiurl=\"http://dumps.wikimedia.org/other/pagecounts-raw/%4d/%4d-%02d/\"%(d.year,d.year,d.month)\n",
    "    gzfile=\"pagecounts-%4d%02d%02d-%02d0000.gz\"%(d.year,d.month,d.day,d.hour)\n",
    "    print gzfile\n",
    "    fn=wikiurl+gzfile\n",
    "    urllib.urlretrieve(fn,fo)\n",
    "    !gunzip -c $fo>$fo2\n",
    "    return\n",
    "\n",
    "def csv_to_reduceddf(fo2):\n",
    "    allwiki=pd.read_csv(fo2,delim_whitespace=True)\n",
    "    allwiki.columns=['lang','article','views','size']\n",
    "    enwiki=allwiki[allwiki['lang']=='en']\n",
    "    enwiki=enwiki[enwiki['size']>=50000]\n",
    "    return(enwiki)"
   ]
  },
  {
   "cell_type": "code",
   "execution_count": 18,
   "metadata": {
    "collapsed": false
   },
   "outputs": [
    {
     "name": "stdout",
     "output_type": "stream",
     "text": [
      "starting\n",
      "end date is : 2011-11-11 17:00:00\n"
     ]
    }
   ],
   "source": [
    "#creating a dataframe with all english pages of a large size\n",
    "print \"starting\"\n",
    "year=2011\n",
    "month=10\n",
    "day=15\n",
    "hour=16\n",
    "fo=\"/Users/abramvandergeest/wikidata/temp.gz\"\n",
    "fo2=\"/Users/abramvandergeest/wikidata/temp.txt\"\n",
    "d=datetime.datetime(year,month,day,hour)\n",
    "dend=datetime.datetime(2011,11,11,17)\n",
    "#dend=datetime.datetime.now()\n",
    "print \"end date is :\",dend\n",
    "dt=datetime.timedelta(days=+1)"
   ]
  },
  {
   "cell_type": "code",
   "execution_count": 19,
   "metadata": {
    "collapsed": false
   },
   "outputs": [
    {
     "name": "stdout",
     "output_type": "stream",
     "text": [
      "entering loop\n",
      "pagecounts-20111015-160000.gz\n",
      "it is unzipped\n",
      "english entries separated\n",
      "pageviews sorted\n",
      "2011101516\n",
      "pagecounts-20111016-160000.gz\n",
      "it is unzipped\n",
      "english entries separated\n",
      "pageviews sorted\n",
      "2011101616\n",
      "pagecounts-20111017-160000.gz\n",
      "it is unzipped\n",
      "english entries separated\n",
      "pageviews sorted\n",
      "2011101716\n",
      "pagecounts-20111018-160000.gz\n",
      "it is unzipped\n",
      "english entries separated\n",
      "pageviews sorted\n",
      "2011101816\n",
      "pagecounts-20111019-160000.gz\n",
      "it is unzipped\n",
      "english entries separated\n",
      "pageviews sorted\n",
      "2011101916\n",
      "pagecounts-20111020-160000.gz\n",
      "gunzip: /Users/abramvandergeest/wikidata/temp.gz: not in gzip format\n",
      "it is unzipped\n",
      "Hit an exception but we are continuing: %s No columns to parse from file\n",
      "pagecounts-20111021-160000.gz\n",
      "it is unzipped\n",
      "english entries separated\n",
      "pageviews sorted\n",
      "2011102116\n",
      "pagecounts-20111022-160000.gz\n",
      "it is unzipped\n",
      "english entries separated\n",
      "pageviews sorted\n",
      "2011102216\n",
      "pagecounts-20111023-160000.gz\n",
      "it is unzipped\n",
      "english entries separated\n",
      "pageviews sorted\n",
      "2011102316\n",
      "pagecounts-20111024-160000.gz\n",
      "it is unzipped\n",
      "english entries separated\n",
      "pageviews sorted\n",
      "2011102416\n",
      "pagecounts-20111025-160000.gz\n",
      "it is unzipped\n",
      "english entries separated\n",
      "pageviews sorted\n",
      "2011102516\n",
      "pagecounts-20111026-160000.gz\n",
      "gunzip: /Users/abramvandergeest/wikidata/temp.gz: not in gzip format\n",
      "it is unzipped\n",
      "Hit an exception but we are continuing: %s No columns to parse from file\n",
      "pagecounts-20111027-160000.gz\n",
      "it is unzipped\n",
      "english entries separated\n",
      "pageviews sorted\n",
      "2011102716\n",
      "pagecounts-20111028-160000.gz\n",
      "it is unzipped\n",
      "english entries separated\n",
      "pageviews sorted\n",
      "2011102816\n",
      "pagecounts-20111029-160000.gz\n",
      "it is unzipped\n",
      "english entries separated\n",
      "pageviews sorted\n",
      "2011102916\n",
      "pagecounts-20111030-160000.gz\n",
      "it is unzipped\n",
      "english entries separated\n",
      "pageviews sorted\n",
      "2011103016\n",
      "pagecounts-20111031-160000.gz\n",
      "it is unzipped\n",
      "english entries separated\n",
      "pageviews sorted\n",
      "2011103116\n",
      "pagecounts-20111101-160000.gz\n",
      "it is unzipped\n",
      "english entries separated\n",
      "pageviews sorted\n",
      "2011110116\n",
      "pagecounts-20111102-160000.gz\n",
      "it is unzipped\n",
      "english entries separated\n",
      "pageviews sorted\n",
      "2011110216\n",
      "pagecounts-20111103-160000.gz\n",
      "it is unzipped\n",
      "english entries separated\n",
      "pageviews sorted\n",
      "2011110316\n",
      "pagecounts-20111104-160000.gz\n",
      "it is unzipped\n",
      "english entries separated\n",
      "pageviews sorted\n",
      "2011110416\n",
      "pagecounts-20111105-160000.gz\n",
      "it is unzipped\n",
      "english entries separated\n",
      "pageviews sorted\n",
      "2011110516\n",
      "pagecounts-20111106-160000.gz\n",
      "it is unzipped\n",
      "english entries separated\n",
      "pageviews sorted\n",
      "2011110616\n",
      "pagecounts-20111107-160000.gz\n",
      "it is unzipped\n",
      "english entries separated\n",
      "pageviews sorted\n",
      "2011110716\n",
      "pagecounts-20111108-160000.gz\n",
      "it is unzipped\n",
      "english entries separated\n",
      "pageviews sorted\n",
      "2011110816\n",
      "pagecounts-20111109-160000.gz\n",
      "it is unzipped\n",
      "english entries separated\n",
      "pageviews sorted\n",
      "2011110916\n",
      "pagecounts-20111110-160000.gz\n",
      "it is unzipped\n",
      "english entries separated\n",
      "pageviews sorted\n",
      "2011111016\n",
      "pagecounts-20111111-160000.gz\n",
      "it is unzipped\n",
      "english entries separated\n",
      "pageviews sorted\n",
      "2011111116\n"
     ]
    }
   ],
   "source": [
    "print \"entering loop\"\n",
    "\n",
    "while d<datetime.datetime(dend.year,dend.month,dend.day,dend.hour):\n",
    "    try:\n",
    "        get_unzip(d,fo,fo2)  #gets the gz file at wikipedia and unzips it\n",
    "        print \"it is unzipped\"\n",
    "        \n",
    "        enwiki=csv_to_reduceddf(fo2) #takes the unzipped file and pairs it down and puts it into a df\n",
    "        print \"english entries separated\"\n",
    "        \n",
    "        date='%4d%02d%02d%02d'%(d.year,d.month,d.day,d.hour)\n",
    "        dic={}\n",
    "        views=[]\n",
    "        with con:\n",
    "            cur = con.cursor()\n",
    "            sql=\"SELECT `Id`,`topic_label`,`topic_string` FROM `topics`;\"\n",
    "            cur.execute(sql)\n",
    "            for row in cur:\n",
    "                tops=row[2].rstrip().split()\n",
    "                twiki=enwiki[np.logical_and.reduce([enwiki['article'].str.contains(top,case=False) for top in tops ])==True]\n",
    "                t=row[2].rstrip()\n",
    "                dic[t]=twiki['views'].sum(axis=0)\n",
    "                #print row[0],dic[t],date\n",
    "                views.append([row[0],dic[t],date])\n",
    "        print \"pageviews sorted\"\n",
    "        \n",
    "        with con:\n",
    "            cur = con.cursor()\n",
    "            for view in views:\n",
    "                sql=\"INSERT INTO `page_views` (`topic_id`,`count`,`date`) VALUES (%s,%s,%s);\"\n",
    "                cur.execute(sql,view)\n",
    "    \n",
    "        print date\n",
    "        d+=dt\n",
    "    except Exception, e:    \n",
    "        print \"Hit an exception but we are continuing: %s\",e\n",
    "        d+=dt"
   ]
  },
  {
   "cell_type": "markdown",
   "metadata": {
    "collapsed": true
   },
   "source": [
    "pagecounts-20110310-160000.gz to pagecounts-20110315-160000.gz gz didn't exist\n",
    "pagecounts-20110303-160000.gz to pagecounts-20110305-160000.gz gz didn't exist\n",
    "pagecounts-20110625-160000.gz to pagecounts-20110627-160000.gz gz didn't exist\n",
    "pagecounts-20110610-160000.gz && pagecounts-20110612-160000.gz  gz didn't exist\n",
    "pagecounts-20110606-160000.gz  gz didn't exist\n",
    "pagecounts-20110528-160000.gz to pagecounts-20110530-160000.gz gz didn't exist\n",
    "pagecounts-20110519-160000.gz gz didn't exist\n",
    "pagecounts-20110904-160000.gz, pagecounts-20110908-160000.gz, pagecounts-20110912-160000.gz don't exist\n",
    "pagecounts-20110916-160000.gz, pagecounts-20111001-160000.gz, pagecounts-20111012-160000.gz\n"
   ]
  }
 ],
 "metadata": {
  "kernelspec": {
   "display_name": "Python 2",
   "language": "python",
   "name": "python2"
  },
  "language_info": {
   "codemirror_mode": {
    "name": "ipython",
    "version": 2
   },
   "file_extension": ".py",
   "mimetype": "text/x-python",
   "name": "python",
   "nbconvert_exporter": "python",
   "pygments_lexer": "ipython2",
   "version": "2.7.10"
  }
 },
 "nbformat": 4,
 "nbformat_minor": 0
}
