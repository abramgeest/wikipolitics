{
 "cells": [
  {
   "cell_type": "code",
   "execution_count": 1,
   "metadata": {
    "collapsed": true
   },
   "outputs": [],
   "source": [
    "import requests\n",
    "import pandas as pd\n",
    "from pandas import read_sql\n",
    "import datetime\n",
    "import matplotlib.pyplot as plt\n",
    "import numpy as np\n",
    "import pymysql as mdb\n",
    "from sklearn.cluster import KMeans"
   ]
  },
  {
   "cell_type": "code",
   "execution_count": 30,
   "metadata": {
    "collapsed": false
   },
   "outputs": [
    {
     "name": "stdout",
     "output_type": "stream",
     "text": [
      "('20150904', Decimal('1764.3333'), 'hillaryclinton', 'Hillary Clinton')\n"
     ]
    }
   ],
   "source": [
    "afile=\"/Users/abramvandergeest/mysql_insightwiki_auth.txt\"\n",
    "a=open(afile)\n",
    "passwd=a.readline().rstrip()\n",
    "a.close()\n",
    "host='localhost'; user='abram.ghost';db='wikidata'\n",
    "con = mdb.connect(host, user, passwd, db,port=3307)\n",
    "    \n",
    "idi=3\n",
    "with con:\n",
    "    cur = con.cursor()\n",
    "    #sql='''SELECT AVG(`page_views`.`count`) AS `vc`,`page_views`.`dateonly` AS `vd` \n",
    "    #    FROM `topics` INNER JOIN `page_views` on `topics`.`ID` = `page_views`.`topic_id` \n",
    "    #    WHERE `page_views`.`date`=\"20150304\" GROUP BY `page_views`.`dateonly` '''\n",
    "    sql='''SELECT `page_views`.`dateonly` AS `do`, AVG(`page_views`.`count`) AS `vc`, `topics`.`topic_label`,`topics`.`topic_string` \n",
    "    FROM `topics` INNER JOIN `page_views` ON `topics`.`ID` = `page_views`.`topic_id` \n",
    "    WHERE `topic_id`=%s AND `page_views`.`dateonly`='20150904'   \n",
    "    GROUP BY `dateonly` '''\n",
    "    cur.execute(sql,[idi])\n",
    "    for row in cur:\n",
    "        print row\n"
   ]
  },
  {
   "cell_type": "code",
   "execution_count": 26,
   "metadata": {
    "collapsed": false
   },
   "outputs": [
    {
     "data": {
      "text/plain": [
       "('20150904', Decimal('1764.3333'), 'hillaryclinton', 'Hillary Clinton')"
      ]
     },
     "execution_count": 26,
     "metadata": {},
     "output_type": "execute_result"
    }
   ],
   "source": [
    "test"
   ]
  },
  {
   "cell_type": "code",
   "execution_count": null,
   "metadata": {
    "collapsed": true
   },
   "outputs": [],
   "source": []
  }
 ],
 "metadata": {
  "kernelspec": {
   "display_name": "Python 2",
   "language": "python",
   "name": "python2"
  },
  "language_info": {
   "codemirror_mode": {
    "name": "ipython",
    "version": 2
   },
   "file_extension": ".py",
   "mimetype": "text/x-python",
   "name": "python",
   "nbconvert_exporter": "python",
   "pygments_lexer": "ipython2",
   "version": "2.7.10"
  }
 },
 "nbformat": 4,
 "nbformat_minor": 0
}
