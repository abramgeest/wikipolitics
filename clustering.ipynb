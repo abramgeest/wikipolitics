{
 "cells": [
  {
   "cell_type": "code",
   "execution_count": 11,
   "metadata": {
    "collapsed": true
   },
   "outputs": [],
   "source": [
    "import urllib\n",
    "import requests\n",
    "import json\n",
    "import pandas as pd\n",
    "from pandas import read_sql\n",
    "import datetime\n",
    "import matplotlib.pyplot as plt\n",
    "import os\n",
    "import numpy as np\n",
    "from copy import deepcopy\n",
    "import pymysql as mdb\n",
    "from sklearn.cluster import KMeans"
   ]
  },
  {
   "cell_type": "code",
   "execution_count": 3,
   "metadata": {
    "collapsed": true
   },
   "outputs": [],
   "source": [
    "afile=\"/Users/abramvandergeest/mysql_insightwiki_auth.txt\"\n",
    "a=open(afile)\n",
    "passwd=a.readline().rstrip()\n",
    "a.close()\n",
    "host='localhost'; user='abram.ghost';db='wikidata2011'\n",
    "con = mdb.connect(host, user, passwd, db)\n",
    "\n",
    "numtopics=76"
   ]
  },
  {
   "cell_type": "code",
   "execution_count": 4,
   "metadata": {
    "collapsed": false
   },
   "outputs": [],
   "source": [
    "#def week_list(base):\n",
    "#    numdays=7\n",
    "#    return([base - datetime.timedelta(days=x) for x in range(0, numdays)])\n",
    "\n",
    "def datefromstr(str):\n",
    "    return datetime.datetime(int(str[0:4]), int(str[5:7]),int(str[8:]))\n",
    "\n",
    "str='2015091618'\n",
    "def date_parse(str):\n",
    "    year =int(str[:4])\n",
    "    month=int(str[4:6])\n",
    "    day=int(str[6:8])\n",
    "    hour=int(str[8:])\n",
    "    return datetime.datetime(year,month,day,hour)\n",
    "\n",
    "def datetime2str(t):\n",
    "    return \"%4d%02d%02d%02d\"%(t.year,t.month,t.day,t.hour)\n",
    "    \n",
    "def gen_feat(into):\n",
    "    avg=np.average(into)\n",
    "    if avg==0: avg=1\n",
    "    maxv= np.max(into)/avg\n",
    "    minv= np.min(into)/avg\n",
    "    rmsv= np.std(into)/avg\n",
    "    difxv=np.max(np.diff(into))/avg\n",
    "    difnv=np.min(np.diff(into))/avg\n",
    "    return([maxv,minv,rmsv,difxv,difnv])\n"
   ]
  },
  {
   "cell_type": "code",
   "execution_count": 5,
   "metadata": {
    "collapsed": true
   },
   "outputs": [],
   "source": [
    "with con:\n",
    "    curt= con.cursor()\n",
    "    #sql=\"SELECT COUNT(*) FROM `topics` \"\n",
    "    \n",
    "    sql=\"SELECT `Id`,`topic_label`,`topic_string` FROM `topics`;\"\n",
    "    curt.execute(sql)\n",
    "    topics=[]\n",
    "    for topic in curt:\n",
    "        topics.append(topic)\n",
    "\n",
    "data={}\n",
    "\n",
    "df=range(numtopics)\n",
    "with con:\n",
    "    curt= con.cursor()\n",
    "    #sql=\"SELECT COUNT(*) FROM `topics` \"\n",
    "    #curt.execute(sql)\n",
    "    sql=\"SELECT `Id`,`topic_label`,`topic_string` FROM `topics`;\"\n",
    "    curt.execute(sql)\n",
    "    for row in curt:\n",
    "        #cur = con.cursor()\n",
    "        sql='''SELECT `page_views`.`count` AS `vc`,`page_views`.`date` AS `vd` \n",
    "             FROM `topics` INNER JOIN `page_views` on `topics`.`ID` = `page_views`.`topic_id` \n",
    "             WHERE `topics`.`id`=%s '''\n",
    "\n",
    "        #print sql\n",
    "        \n",
    "        data[row[1]]=read_sql(sql, con,params=[row[0]])\n",
    "        df[row[0]]=data[row[1]]\n",
    "        #data[row[1]]=df[len(df)-1][1]\n",
    "\n",
    "topicdata=df"
   ]
  },
  {
   "cell_type": "code",
   "execution_count": 6,
   "metadata": {
    "collapsed": true
   },
   "outputs": [],
   "source": [
    "timeforcluster=datetime.datetime(2011,10,10)"
   ]
  },
  {
   "cell_type": "code",
   "execution_count": 7,
   "metadata": {
    "collapsed": false
   },
   "outputs": [
    {
     "data": {
      "text/plain": [
       "0    2298\n",
       "1    2589\n",
       "2    1438\n",
       "3    2138\n",
       "4    2476\n",
       "5    2125\n",
       "6    1925\n",
       "7    2018\n",
       "8    2174\n",
       "9    1799\n",
       "Name: vc, dtype: int64"
      ]
     },
     "execution_count": 7,
     "metadata": {},
     "output_type": "execute_result"
    }
   ],
   "source": [
    "##for top in topics:\n",
    "#top=topics[1]\n",
    "#for top in topics:\n",
    "#    topicdata[top[0]]['date']=map(lambda x:date_parse(x),data[top[1]]['vd'] )\n",
    "    \n",
    "    \n",
    "topicdata[1]['vc'].head(10)\n"
   ]
  },
  {
   "cell_type": "code",
   "execution_count": 8,
   "metadata": {
    "collapsed": false
   },
   "outputs": [
    {
     "name": "stdout",
     "output_type": "stream",
     "text": [
      "michelebachmann\n",
      "hermancain\n",
      "occupymovement\n",
      "socialsecurityunitedstates\n"
     ]
    }
   ],
   "source": [
    "for i in xrange(9,13):\n",
    "    print topics[i][1]\n"
   ]
  },
  {
   "cell_type": "code",
   "execution_count": 81,
   "metadata": {
    "collapsed": false
   },
   "outputs": [
    {
     "name": "stdout",
     "output_type": "stream",
     "text": [
      "76\n"
     ]
    }
   ],
   "source": [
    "feat=False\n",
    "dateinput=datetime.datetime(2011,6,5,0)\n",
    "\n",
    "dateinit=dateinput\n",
    "datefin=dateinit+datetime.timedelta(days=7)\n",
    "di=datetime2str(dateinit)\n",
    "df=datetime2str(datefin)\n",
    "\n",
    "clusinp=range(numtopics+1)\n",
    "print numtopics\n",
    "clusinp[0]=gen_feat([0,0,0,0,0])\n",
    "clusinp=[]\n",
    "clusinp.append([9,9,9,9,9])\n",
    "\n",
    "for index,topic in enumerate(topics):\n",
    "    #topic=list(topics[index])\n",
    "    d=topicdata[topic[0]]\n",
    "    #print topic[1],topic[0]\n",
    "\n",
    "    #print di ,df\n",
    "    #intofeat=d[ (d['vd']>di) & (d['vd']<df )]['vc'].values\n",
    "    #print intofeat\n",
    "    if feat==True: #use the slope/variation features\n",
    "        clusinp.append(gen_feat(d[ (d['vd']>di) & (d['vd']<df )]['vc'].values))\n",
    "    else:  # just use the direct view counts\n",
    "        clusinp.append(d[ (d['vd']>di) & (d['vd']<df )]['vc'].values)\n",
    "\n",
    "clusinp=np.array(clusinp)\n",
    "#print np.shape(clusinp)\n",
    "#print clusinp #outputting random topic values to see the data\n"
   ]
  },
  {
   "cell_type": "code",
   "execution_count": 82,
   "metadata": {
    "collapsed": false
   },
   "outputs": [
    {
     "name": "stdout",
     "output_type": "stream",
     "text": [
      "[0 1 2 4 0 4 4 0 0 0 4 4 0 0 0 0 2 0 0 0 0 1 0 2 0 4 0 4 0 0 0 0 0 4 0 2 0\n",
      " 0 0 0 0 2 0 4 1 2 1 3 4 0 0 2 2 0 4 0 0 0 0 4 2 0 0 0 0 0 0 0 0 0 0 0 0 0\n",
      " 1 0]\n"
     ]
    }
   ],
   "source": [
    "kmeans=KMeans(n_clusters=5,n_init=30,max_iter=500,init='random')\n",
    "kmeans.fit(clusinp)\n",
    "print kmeans.labels_"
   ]
  },
  {
   "cell_type": "code",
   "execution_count": null,
   "metadata": {
    "collapsed": true
   },
   "outputs": [],
   "source": []
  }
 ],
 "metadata": {
  "kernelspec": {
   "display_name": "Python 2",
   "language": "python",
   "name": "python2"
  },
  "language_info": {
   "codemirror_mode": {
    "name": "ipython",
    "version": 2
   },
   "file_extension": ".py",
   "mimetype": "text/x-python",
   "name": "python",
   "nbconvert_exporter": "python",
   "pygments_lexer": "ipython2",
   "version": "2.7.10"
  }
 },
 "nbformat": 4,
 "nbformat_minor": 0
}
