{
 "cells": [
  {
   "cell_type": "code",
   "execution_count": 1,
   "metadata": {
    "collapsed": true
   },
   "outputs": [],
   "source": [
    "import urllib\n",
    "import requests\n",
    "import json\n",
    "import pandas as pd\n",
    "from pandas import read_sql\n",
    "import datetime\n",
    "import matplotlib.pyplot as plt\n",
    "import os\n",
    "import numpy as np\n",
    "from copy import deepcopy\n",
    "import pymysql as mdb"
   ]
  },
  {
   "cell_type": "code",
   "execution_count": 2,
   "metadata": {
    "collapsed": false
   },
   "outputs": [],
   "source": [
    "afile=\"/Users/abramvandergeest/mysql_insightwiki_auth.txt\"\n",
    "a=open(afile)\n",
    "passwd=a.readline().rstrip()\n",
    "a.close()\n",
    "host='localhost'; user='abram.ghost';db='wikidata2011'\n",
    "con = mdb.connect(host, user, passwd, db)"
   ]
  },
  {
   "cell_type": "code",
   "execution_count": 55,
   "metadata": {
    "collapsed": false
   },
   "outputs": [],
   "source": [
    "#def week_list(base):\n",
    "#    numdays=7\n",
    "#    return([base - datetime.timedelta(days=x) for x in range(0, numdays)])\n",
    "\n",
    "def datefromstr(str):\n",
    "    return datetime.datetime(int(str[0:4]), int(str[5:7]),int(str[8:]))\n",
    "\n",
    "str='2015091618'\n",
    "def date_parse(str):\n",
    "    year =int(str[:4])\n",
    "    month=int(str[4:6])\n",
    "    day=int(str[6:8])\n",
    "    hour=int(str[8:])\n",
    "    return datetime.datetime(year,month,day,hour)\n",
    "\n",
    "def datetime2str(t):\n",
    "    return \"%4d%02d%02d%02d\"%(t.year,t.month,t.day,t.hour)\n",
    "    \n",
    "def gen_feat(into):\n",
    "    avg=np.average(into)\n",
    "    print avg\n",
    "    maxv= np.max(into)/avg\n",
    "    minv= np.min(into)/avg\n",
    "    rmsv= np.std(into)/avg\n",
    "    difxv=np.max(np.diff(into))/avg\n",
    "    difnv=np.min(np.diff(into))/avg\n",
    "    return([maxv,minv,rmsv,difxv,difnv])\n",
    "    "
   ]
  },
  {
   "cell_type": "code",
   "execution_count": 4,
   "metadata": {
    "collapsed": true
   },
   "outputs": [],
   "source": [
    "call=\"http://elections.huffingtonpost.com/pollster/api/charts.json\"\n",
    "#url='http://elections.huffingtonpost.com/pollster/api/'\n",
    "#typ=\"charts/\"\n",
    "#slug=\"2012-general-election-romney-vs-obama.json\"\n",
    "#call=url+typ+slug"
   ]
  },
  {
   "cell_type": "code",
   "execution_count": 5,
   "metadata": {
    "collapsed": true
   },
   "outputs": [],
   "source": [
    "r = requests.get(call)\n",
    "r.status_code\n",
    "r.headers['content-type']\n",
    "charts=r.json()"
   ]
  },
  {
   "cell_type": "code",
   "execution_count": 6,
   "metadata": {
    "collapsed": false
   },
   "outputs": [
    {
     "name": "stdout",
     "output_type": "stream",
     "text": [
      "2012-national-gop-primary\n",
      "2016-national-gop-primary\n"
     ]
    }
   ],
   "source": [
    "terms=['primary','gop','national']\n",
    "for chart in charts:\n",
    "    slug=chart['slug']\n",
    "    if all([t in slug for t in terms]):\n",
    "        print slug"
   ]
  },
  {
   "cell_type": "code",
   "execution_count": 7,
   "metadata": {
    "collapsed": true
   },
   "outputs": [],
   "source": [
    "call='http://elections.huffingtonpost.com/pollster/api/charts/2012-national-gop-primary'\n",
    "r = requests.get(call)\n",
    "r.status_code\n",
    "r.headers['content-type']\n",
    "gopprim2012=r.json()"
   ]
  },
  {
   "cell_type": "code",
   "execution_count": 8,
   "metadata": {
    "collapsed": false
   },
   "outputs": [],
   "source": [
    "#I need a list of candidates, but not all dates have all candidates \n",
    "#so I create a list to add all the candidates for each day then\n",
    "#I turn it into a set to det the unique values\n",
    "cand=[]\n",
    "\n",
    "for date in gopprim2012['estimates_by_date']:\n",
    "    for est in date['estimates']:\n",
    "        cand.append(est['choice'])\n",
    "        #print est\n",
    "        \n",
    "cands=set(cand)"
   ]
  },
  {
   "cell_type": "code",
   "execution_count": 9,
   "metadata": {
    "collapsed": false
   },
   "outputs": [],
   "source": [
    "rowinit={'date':\"2011\",'Bachmann':0,'Perry':0,'Huntsman':0,'Santorum':0,'Roemer':0,'Romney':0,'Other':0,'Undecided':0,'Cain':0,'Paul':0,'Not Voting':0,'Karger':0,'Gingrich':0}\n",
    "data=[]\n",
    "\n",
    "for date in gopprim2012['estimates_by_date']:\n",
    "#if True:\n",
    "    #date=gopprim2012['estimates_by_date'][3]\n",
    "    row=deepcopy(rowinit)\n",
    "    #print row\n",
    "    #print date['date']\n",
    "    row['date']=datefromstr(date['date'])\n",
    "    for est in date['estimates']:\n",
    "         row[est['choice']]=est['value']\n",
    "    data.append(row)\n",
    "    #print row\n",
    "    \n",
    "df= pd.DataFrame(data)"
   ]
  },
  {
   "cell_type": "code",
   "execution_count": 10,
   "metadata": {
    "collapsed": false
   },
   "outputs": [
    {
     "data": {
      "image/png": "[encoded data removed]",
      "text/plain": [
       "<matplotlib.figure.Figure at 0x108361350>"
      ]
     },
     "metadata": {},
     "output_type": "display_data"
    }
   ],
   "source": [
    "%matplotlib inline\n",
    "dtp=df[['date','Romney']].values\n",
    "dtp[0]\n",
    "plt.plot_date(df[['date']].values,df[['Romney']].values,label=\"Romney\")\n",
    "plt.plot_date(df[['date']].values,df[['Cain']].values,label=\"Cain\")\n",
    "plt.plot_date(df[['date']].values,df[['Gingrich']].values,label=\"Gingrich\")\n",
    "plt.plot_date(df[['date']].values,df[['Huntsman']].values,label=\"Huntsman\")\n",
    "plt.plot_date(df[['date']].values,df[['Not Voting']].values,label=\"Not\")\n",
    "plt.plot_date(df[['date']].values,df[['Other']].values,label=\"Other\")\n",
    "plt.plot_date(df[['date']].values,df[['Paul']].values,label=\"Paul\")\n",
    "plt.plot_date(df[['date']].values,df[['Perry']].values,label=\"Perry\")\n",
    "plt.plot_date(df[['date']].values,df[['Santorum']].values,label=\"Santorm\")\n",
    "plt.plot_date(df[['date']].values,df[['Undecided']].values,label=\"Undecided\")\n",
    "plt.legend(bbox_to_anchor=(0., 1.02, 1., .102), loc=3,  ncol=3, mode=\"expand\", borderaxespad=0.)\n",
    "plt.show()\n",
    "dfhuff=df"
   ]
  },
  {
   "cell_type": "code",
   "execution_count": 74,
   "metadata": {
    "collapsed": false
   },
   "outputs": [
    {
     "name": "stdout",
     "output_type": "stream",
     "text": [
      "       vc          vd\n",
      "0    2298  2011030116\n",
      "1    2589  2011030216\n",
      "2    1438  2011030616\n",
      "3    2138  2011030716\n",
      "4    2476  2011030816\n",
      "5    2125  2011030916\n",
      "6    1925  2011031616\n",
      "7    2018  2011031716\n",
      "8    2174  2011031816\n",
      "9    1799  2011031916\n",
      "10   1863  2011032016\n",
      "11   2464  2011032116\n",
      "12   2466  2011032216\n",
      "13   3451  2011032316\n",
      "14   3004  2011032416\n",
      "15   2984  2011032516\n",
      "16   1496  2011032616\n",
      "17   1636  2011032716\n",
      "18   2323  2011032816\n",
      "19   2928  2011032916\n",
      "20   2566  2011033016\n",
      "21   2390  2011033116\n",
      "22   2135  2011040116\n",
      "23   1303  2011040216\n",
      "24   1827  2011040316\n",
      "25   3225  2011040416\n",
      "26   2451  2011040516\n",
      "27   2130  2011040616\n",
      "28   4399  2011040716\n",
      "29   3330  2011040816\n",
      "..    ...         ...\n",
      "239   942  2011121016\n",
      "240   690  2011121216\n",
      "241  2202  2011121316\n",
      "242  2129  2011121416\n",
      "243   791  2011121616\n",
      "244  1155  2011121716\n",
      "245  1274  2011121816\n",
      "246  3397  2011122116\n",
      "247  1139  2011122616\n",
      "248  1323  2011122816\n",
      "249   859  2011123016\n",
      "250   549  2011123116\n",
      "251  2105  2012010216\n",
      "252  1216  2012010516\n",
      "253     0  2012010616\n",
      "254  1886  2012010716\n",
      "255  1778  2012010816\n",
      "256   289  2012011016\n",
      "257  1692  2012011416\n",
      "258  1455  2012011516\n",
      "259  1285  2012011616\n",
      "260     0  2012011816\n",
      "261  2887  2012011916\n",
      "262   526  2012012316\n",
      "263   701  2012012516\n",
      "264   624  2012012616\n",
      "265  1406  2011111216\n",
      "266  1472  2011111316\n",
      "267  2211  2011111416\n",
      "268  2330  2011111516\n",
      "\n",
      "[269 rows x 2 columns]\n"
     ]
    }
   ],
   "source": [
    "with con:\n",
    "    curt= con.cursor()\n",
    "    #sql=\"SELECT COUNT(*) FROM `topics` \"\n",
    "    \n",
    "    sql=\"SELECT `Id`,`topic_label`,`topic_string` FROM `topics`;\"\n",
    "    curt.execute(sql)\n",
    "    topics=[]\n",
    "    for topic in curt:\n",
    "        topics.append(topic)\n",
    "\n",
    "data={}\n",
    "\n",
    "df=range(76)\n",
    "with con:\n",
    "    curt= con.cursor()\n",
    "    #sql=\"SELECT COUNT(*) FROM `topics` \"\n",
    "    #curt.execute(sql)\n",
    "    sql=\"SELECT `Id`,`topic_label`,`topic_string` FROM `topics`;\"\n",
    "    curt.execute(sql)\n",
    "    for row in curt:\n",
    "        #cur = con.cursor()\n",
    "        sql='''SELECT `page_views`.`count` AS `vc`,`page_views`.`date` AS `vd` \n",
    "             FROM `topics` INNER JOIN `page_views` on `topics`.`ID` = `page_views`.`topic_id` \n",
    "             WHERE `topics`.`id`=%s '''\n",
    "\n",
    "        #print sql\n",
    "        \n",
    "        data[row[1]]=read_sql(sql, con,params=[row[0]])\n",
    "        df[row[0]]=data[row[1]]\n",
    "        #data[row[1]]=df[len(df)-1][1]\n",
    "\n",
    "topicdata=df"
   ]
  },
  {
   "cell_type": "code",
   "execution_count": 81,
   "metadata": {
    "collapsed": false
   },
   "outputs": [
    {
     "name": "stdout",
     "output_type": "stream",
     "text": [
      "hermancain\n"
     ]
    },
    {
     "data": {
      "image/png": "[encoded data removed]",
      "text/plain": [
       "<matplotlib.figure.Figure at 0x10d0b8a50>"
      ]
     },
     "metadata": {},
     "output_type": "display_data"
    },
    {
     "data": {
      "image/png": "[encoded data removed]",
      "text/plain": [
       "<matplotlib.figure.Figure at 0x10c6abc50>"
      ]
     },
     "metadata": {},
     "output_type": "display_data"
    }
   ],
   "source": [
    "i=10\n",
    "xmin=datetime.datetime(2011,1,1)\n",
    "xmax=datetime.datetime(2012,2,1)\n",
    "ymin=0;ymax=40;\n",
    "%matplotlib inline\n",
    "ilabel=topics[i][2].rsplit()[1]\n",
    "top=topics[i][1]#topic to consider for now\n",
    "print top\n",
    "data[top]['date']=map(lambda x:date_parse(x),data[top]['vd'] )\n",
    "#df[1][['tl','vd','vc']]\n",
    "plt.plot_date(data[top][['date']].values,data[top][['vc']].values)\n",
    "plt.xlim([xmin,xmax])\n",
    "plt.show()\n",
    "\n",
    "a=plt.plot_date(dfhuff[['date']].values,dfhuff[[ilabel]].values,label=ilabel)\n",
    "plt.legend(bbox_to_anchor=(0., 1.02, 1., .102), loc=3,  ncol=3, mode=\"expand\", borderaxespad=0.)\n",
    "\n",
    "plt.xlim([xmin,xmax])\n",
    "plt.ylim([ymin,ymax])\n",
    "plt.show()"
   ]
  },
  {
   "cell_type": "code",
   "execution_count": 63,
   "metadata": {
    "collapsed": true
   },
   "outputs": [],
   "source": [
    "timeforcluster=datetime.datetime(2011,10,10)\n"
   ]
  },
  {
   "cell_type": "code",
   "execution_count": 64,
   "metadata": {
    "collapsed": false
   },
   "outputs": [
    {
     "ename": "KeyError",
     "evalue": "0",
     "output_type": "error",
     "traceback": [
      "\u001b[0;31m---------------------------------------------------------------------------\u001b[0m",
      "\u001b[0;31mKeyError\u001b[0m                                  Traceback (most recent call last)",
      "\u001b[0;32m<ipython-input-64-88cae4a5bf31>\u001b[0m in \u001b[0;36m<module>\u001b[0;34m()\u001b[0m\n\u001b[0;32m----> 1\u001b[0;31m \u001b[0mdata\u001b[0m\u001b[0;34m[\u001b[0m\u001b[0;36m0\u001b[0m\u001b[0;34m]\u001b[0m\u001b[0;34m\u001b[0m\u001b[0m\n\u001b[0m",
      "\u001b[0;31mKeyError\u001b[0m: 0"
     ]
    }
   ],
   "source": [
    "data[0]"
   ]
  },
  {
   "cell_type": "code",
   "execution_count": 78,
   "metadata": {
    "collapsed": false
   },
   "outputs": [
    {
     "data": {
      "text/plain": [
       "0    2298\n",
       "1    2589\n",
       "2    1438\n",
       "3    2138\n",
       "4    2476\n",
       "5    2125\n",
       "6    1925\n",
       "7    2018\n",
       "8    2174\n",
       "9    1799\n",
       "Name: vc, dtype: int64"
      ]
     },
     "execution_count": 78,
     "metadata": {},
     "output_type": "execute_result"
    }
   ],
   "source": [
    "#for top in topics:\n",
    "top=topics[1]\n",
    "for top in topics:\n",
    "    topicdata[top[0]]['date']=map(lambda x:date_parse(x),data[top[1]]['vd'] )\n",
    "    \n",
    "    \n",
    "topicdata[1]['vc'].head(10)\n"
   ]
  },
  {
   "cell_type": "code",
   "execution_count": 53,
   "metadata": {
    "collapsed": false
   },
   "outputs": [
    {
     "name": "stdout",
     "output_type": "stream",
     "text": [
      "102.2\n",
      "[1.5362035225048922, 0.7142857142857143, 0.29532401084870258, 0.82191780821917804, -0.61643835616438358]\n"
     ]
    }
   ],
   "source": [
    "d=topicdata[top[1]]\n",
    "dateinit=datetime.datetime(2011,6,5,0)\n",
    "datefin=dateinit+datetime.timedelta(days=7)\n",
    "di=datetime2str(dateinit)\n",
    "df=datetime2str(datefin)\n",
    "intofeat=d[ (d['vd']>di) & (d['vd']<df )]['vc'].values\n",
    "\n",
    "\n",
    "    \n",
    "print gen_feat(intofeat)\n",
    "#week=week_list(datetime.datetime(2011,3,17,0))\n",
    "#\n",
    "#print [datetime.datetime(2011,3,16,0)==day for day in week]\n",
    "#day =datetime.datetime(2011,3,16,16)\n",
    "#d[[d['date'] == day for day in week]] "
   ]
  },
  {
   "cell_type": "code",
   "execution_count": null,
   "metadata": {
    "collapsed": false
   },
   "outputs": [],
   "source": []
  },
  {
   "cell_type": "code",
   "execution_count": null,
   "metadata": {
    "collapsed": true
   },
   "outputs": [],
   "source": []
  }
 ],
 "metadata": {
  "kernelspec": {
   "display_name": "Python 2",
   "language": "python",
   "name": "python2"
  },
  "language_info": {
   "codemirror_mode": {
    "name": "ipython",
    "version": 2
   },
   "file_extension": ".py",
   "mimetype": "text/x-python",
   "name": "python",
   "nbconvert_exporter": "python",
   "pygments_lexer": "ipython2",
   "version": "2.7.10"
  }
 },
 "nbformat": 4,
 "nbformat_minor": 0
}
