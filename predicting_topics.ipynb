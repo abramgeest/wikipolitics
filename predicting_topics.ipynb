{
 "cells": [
  {
   "cell_type": "code",
   "execution_count": 1,
   "metadata": {
    "collapsed": true
   },
   "outputs": [],
   "source": [
    "import urllib\n",
    "import pandas as pd\n",
    "import numpy as np\n",
    "import datetime\n",
    "import string\n",
    "import pymysql as mdb"
   ]
  },
  {
   "cell_type": "code",
   "execution_count": 2,
   "metadata": {
    "collapsed": true
   },
   "outputs": [],
   "source": [
    "import sqlalchemy as sa\n",
    "from pandas import read_sql"
   ]
  },
  {
   "cell_type": "code",
   "execution_count": 7,
   "metadata": {
    "collapsed": false
   },
   "outputs": [
    {
     "name": "stdout",
     "output_type": "stream",
     "text": [
      "localhost\n",
      "abram.ghost\n",
      "wikidata\n",
      "\n",
      "SELECT `topics`.`topic_label` AS `tl`,`page_views`.`count` AS `vc`,`page_views`.`date` AS `vd` \n",
      "         FROM `topics` INNER JOIN `page_views` on `topics`.`ID` = `page_views`.`topic_id` \n",
      "         WHERE `topics`.`id`=%s \n"
     ]
    }
   ],
   "source": [
    "afile=\"/Users/abramvandergeest/mysql_insightwiki_auth.txt\"\n",
    "a=open(afile)\n",
    "auth=a.readlines()\n",
    "print auth[0],auth[1],auth[3]\n",
    "con = mdb.connect(auth[0].rstrip(), auth[1].rstrip(), auth[2].rstrip(), auth[3].rstrip())\n",
    "data=[]\n",
    "with con:\n",
    "    cur = con.cursor()\n",
    "    \n",
    "    sql='''SELECT `topics`.`topic_label` AS `tl`,`page_views`.`count` AS `vc`,`page_views`.`date` AS `vd` \n",
    "         FROM `topics` INNER JOIN `page_views` on `topics`.`ID` = `page_views`.`topic_id` \n",
    "         WHERE `topics`.`id`=%s '''\n",
    "\n",
    "    print sql\n",
    "    df=read_sql(sql, con,params=[75])\n",
    "\n"
   ]
  },
  {
   "cell_type": "code",
   "execution_count": null,
   "metadata": {
    "collapsed": true
   },
   "outputs": [],
   "source": []
  }
 ],
 "metadata": {
  "kernelspec": {
   "display_name": "Python 2",
   "language": "python",
   "name": "python2"
  },
  "language_info": {
   "codemirror_mode": {
    "name": "ipython",
    "version": 2
   },
   "file_extension": ".py",
   "mimetype": "text/x-python",
   "name": "python",
   "nbconvert_exporter": "python",
   "pygments_lexer": "ipython2",
   "version": "2.7.10"
  }
 },
 "nbformat": 4,
 "nbformat_minor": 0
}
