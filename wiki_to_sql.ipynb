{
 "cells": [
  {
   "cell_type": "code",
   "execution_count": 32,
   "metadata": {
    "collapsed": true
   },
   "outputs": [],
   "source": [
    "import urllib\n",
    "import pandas as pd\n",
    "import numpy as np\n",
    "import datetime\n",
    "import string\n",
    "import pymysql as mdb"
   ]
  },
  {
   "cell_type": "code",
   "execution_count": 33,
   "metadata": {
    "collapsed": true
   },
   "outputs": [],
   "source": [
    "topicsfile=\"/Users/abramvandergeest/Dropbox/insight_work/topic_list.txt\"\n",
    "f=open(topicsfile)\n",
    "topics=f.readlines()\n",
    "f.close()"
   ]
  },
  {
   "cell_type": "code",
   "execution_count": 34,
   "metadata": {
    "collapsed": true
   },
   "outputs": [],
   "source": [
    "con = mdb.connect('localhost', 'abram.ghost', '', 'wikidata')\n",
    "####I NEED TO SET THIS TO A NON-GITHUB AUTHENTICATION LOCATION AND CHANGE PASSWORD\n",
    "\n",
    "#I should also create the  database if it doesn't exist"
   ]
  },
  {
   "cell_type": "code",
   "execution_count": 35,
   "metadata": {
    "collapsed": true
   },
   "outputs": [],
   "source": [
    "#Makes topics table\n",
    "with con:\n",
    "    cur = con.cursor()\n",
    "    cur.execute(\"DROP TABLE IF EXISTS `topics`;\")\n",
    "    str=\"CREATE TABLE `topics` (`Id` INT PRIMARY KEY AUTO_INCREMENT, `topic_label` VARCHAR(64), `topic_string` VARCHAR(64));\"\n",
    "    cur.execute(str)\n",
    "    "
   ]
  },
  {
   "cell_type": "code",
   "execution_count": 36,
   "metadata": {
    "collapsed": false
   },
   "outputs": [],
   "source": [
    "#Populate topics table\n",
    "with con:\n",
    "    for topic in topics:\n",
    "        label=\"\".join(topic.lower().split())\n",
    "        string=topic.rstrip()\n",
    "        sql=\"INSERT INTO `topics` (`topic_label`,`topic_string`) VALUES (%s,%s);\"\n",
    "        cur.execute(sql,(label,string))"
   ]
  },
  {
   "cell_type": "code",
   "execution_count": 37,
   "metadata": {
    "collapsed": false
   },
   "outputs": [],
   "source": [
    "#Makes page_views table\n",
    "with con:\n",
    "    cur = con.cursor()\n",
    "    cur.execute(\"DROP TABLE IF EXISTS `page_views`;\")\n",
    "    str=\"CREATE TABLE `page_views` (`Id` INT PRIMARY KEY AUTO_INCREMENT, `topic_id` INT, `count` INT, `date` VARCHAR(64));\"\n",
    "    cur.execute(str)\n",
    "    "
   ]
  },
  {
   "cell_type": "code",
   "execution_count": 28,
   "metadata": {
    "collapsed": true
   },
   "outputs": [],
   "source": [
    "#creating a dataframe with all english pages of a large size\n",
    "fn=\"/Users/abramvandergeest/wikidata/pagecounts-20150501-000000.gz\"\n",
    "fo=\"/Users/abramvandergeest/wikidata/temp.gz\"\n",
    "fo2=\"/Users/abramvandergeest/wikidata/temp.txt\"\n",
    "urllib.urlretrieve (fn,fo)\n",
    "!gunzip -c $fo>$fo2\n",
    "allwiki=pd.read_csv(fo2,delim_whitespace=True)\n",
    "allwiki.columns=['lang','article','views','size']\n",
    "enwiki=allwiki[allwiki['lang']=='en']\n",
    "enwiki=enwiki[enwiki['size']>=50000]"
   ]
  },
  {
   "cell_type": "code",
   "execution_count": 48,
   "metadata": {
    "collapsed": false
   },
   "outputs": [],
   "source": [
    "#\n",
    "date='2015050100'\n",
    "dic={}\n",
    "views=[]\n",
    "with con:\n",
    "    cur = con.cursor()\n",
    "    sql=\"SELECT `Id`,`topic_label`,`topic_string` FROM `topics`;\"\n",
    "    cur.execute(sql)\n",
    "    for row in cur:\n",
    "        tops=row[2].rstrip().split()\n",
    "        twiki=enwiki[np.logical_and.reduce([enwiki['article'].str.contains(top,case=False) for top in tops ])==True]\n",
    "        t=row[2].rstrip()\n",
    "        dic[t]=twiki['views'].sum(axis=0)\n",
    "        #print row[0],dic[t],date\n",
    "        views.append([row[0],dic[t],date])\n",
    "        "
   ]
  },
  {
   "cell_type": "markdown",
   "metadata": {},
   "source": [
    "for view in views:\n",
    "    print view"
   ]
  },
  {
   "cell_type": "code",
   "execution_count": 49,
   "metadata": {
    "collapsed": false
   },
   "outputs": [],
   "source": [
    "with con:\n",
    "    cur = con.cursor()\n",
    "    for view in views:\n",
    "        sql=\"INSERT INTO `page_views` (`topic_id`,`count`,`date`) VALUES (%s,%s,%s);\"\n",
    "        cur.execute(sql,view)"
   ]
  },
  {
   "cell_type": "code",
   "execution_count": null,
   "metadata": {
    "collapsed": true
   },
   "outputs": [],
   "source": []
  }
 ],
 "metadata": {
  "kernelspec": {
   "display_name": "Python 2",
   "language": "python",
   "name": "python2"
  },
  "language_info": {
   "codemirror_mode": {
    "name": "ipython",
    "version": 2
   },
   "file_extension": ".py",
   "mimetype": "text/x-python",
   "name": "python",
   "nbconvert_exporter": "python",
   "pygments_lexer": "ipython2",
   "version": "2.7.10"
  }
 },
 "nbformat": 4,
 "nbformat_minor": 0
}
